{
 "cells": [
  {
   "cell_type": "code",
   "execution_count": 1,
   "id": "1be51494",
   "metadata": {},
   "outputs": [
    {
     "name": "stdout",
     "output_type": "stream",
     "text": [
      "Using device: cuda\n",
      "Class names: ['정상', '참외노균병', '참외흰가루병']\n",
      "Number of classes: 3\n"
     ]
    },
    {
     "name": "stderr",
     "output_type": "stream",
     "text": [
      "C:\\Users\\427s2\\AppData\\Local\\Temp\\ipykernel_30532\\1881950706.py:78: FutureWarning: `torch.cuda.amp.GradScaler(args...)` is deprecated. Please use `torch.amp.GradScaler('cuda', args...)` instead.\n",
      "  scaler = torch.cuda.amp.GradScaler()\n"
     ]
    },
    {
     "name": "stdout",
     "output_type": "stream",
     "text": [
      "Epoch 1/15\n",
      "----------\n"
     ]
    },
    {
     "name": "stderr",
     "output_type": "stream",
     "text": [
      "Train Phase:   0%|          | 0/389 [00:00<?, ?it/s]C:\\Users\\427s2\\AppData\\Local\\Temp\\ipykernel_30532\\1881950706.py:100: FutureWarning: `torch.cuda.amp.autocast(args...)` is deprecated. Please use `torch.amp.autocast('cuda', args...)` instead.\n",
      "  with torch.cuda.amp.autocast():\n",
      "Train Phase: 100%|██████████| 389/389 [03:46<00:00,  1.72it/s, loss=0.7078]\n"
     ]
    },
    {
     "name": "stdout",
     "output_type": "stream",
     "text": [
      "✅ train Loss: 0.1239 Acc: 0.9591\n"
     ]
    },
    {
     "name": "stderr",
     "output_type": "stream",
     "text": [
      "Val Phase: 100%|██████████| 49/49 [00:40<00:00,  1.20it/s, loss=0.0110]\n"
     ]
    },
    {
     "name": "stdout",
     "output_type": "stream",
     "text": [
      "✅ val Loss: 0.0183 Acc: 0.9961\n",
      "🚀 Best validation accuracy updated: 0.9961, Model saved!\n",
      "Epoch 2/15\n",
      "----------\n"
     ]
    },
    {
     "name": "stderr",
     "output_type": "stream",
     "text": [
      "Train Phase: 100%|██████████| 389/389 [03:24<00:00,  1.90it/s, loss=0.0670]\n"
     ]
    },
    {
     "name": "stdout",
     "output_type": "stream",
     "text": [
      "✅ train Loss: 0.0598 Acc: 0.9807\n"
     ]
    },
    {
     "name": "stderr",
     "output_type": "stream",
     "text": [
      "Val Phase: 100%|██████████| 49/49 [00:37<00:00,  1.30it/s, loss=0.0229]\n"
     ]
    },
    {
     "name": "stdout",
     "output_type": "stream",
     "text": [
      "✅ val Loss: 0.0067 Acc: 0.9981\n",
      "🚀 Best validation accuracy updated: 0.9981, Model saved!\n",
      "Epoch 3/15\n",
      "----------\n"
     ]
    },
    {
     "name": "stderr",
     "output_type": "stream",
     "text": [
      "Train Phase: 100%|██████████| 389/389 [03:26<00:00,  1.89it/s, loss=0.0006]\n"
     ]
    },
    {
     "name": "stdout",
     "output_type": "stream",
     "text": [
      "✅ train Loss: 0.0547 Acc: 0.9817\n"
     ]
    },
    {
     "name": "stderr",
     "output_type": "stream",
     "text": [
      "Val Phase: 100%|██████████| 49/49 [00:41<00:00,  1.17it/s, loss=0.0533]\n"
     ]
    },
    {
     "name": "stdout",
     "output_type": "stream",
     "text": [
      "✅ val Loss: 0.0079 Acc: 0.9987\n",
      "🚀 Best validation accuracy updated: 0.9987, Model saved!\n",
      "Epoch 4/15\n",
      "----------\n"
     ]
    },
    {
     "name": "stderr",
     "output_type": "stream",
     "text": [
      "Train Phase: 100%|██████████| 389/389 [03:37<00:00,  1.79it/s, loss=0.0001]\n"
     ]
    },
    {
     "name": "stdout",
     "output_type": "stream",
     "text": [
      "✅ train Loss: 0.0412 Acc: 0.9862\n"
     ]
    },
    {
     "name": "stderr",
     "output_type": "stream",
     "text": [
      "Val Phase: 100%|██████████| 49/49 [00:41<00:00,  1.17it/s, loss=0.0042]\n"
     ]
    },
    {
     "name": "stdout",
     "output_type": "stream",
     "text": [
      "✅ val Loss: 0.0048 Acc: 0.9994\n",
      "🚀 Best validation accuracy updated: 0.9994, Model saved!\n",
      "Epoch 5/15\n",
      "----------\n"
     ]
    },
    {
     "name": "stderr",
     "output_type": "stream",
     "text": [
      "Train Phase: 100%|██████████| 389/389 [03:19<00:00,  1.95it/s, loss=1.5709]\n"
     ]
    },
    {
     "name": "stdout",
     "output_type": "stream",
     "text": [
      "✅ train Loss: 0.0445 Acc: 0.9847\n"
     ]
    },
    {
     "name": "stderr",
     "output_type": "stream",
     "text": [
      "Val Phase: 100%|██████████| 49/49 [00:37<00:00,  1.30it/s, loss=0.0101]\n"
     ]
    },
    {
     "name": "stdout",
     "output_type": "stream",
     "text": [
      "✅ val Loss: 0.0132 Acc: 0.9968\n",
      "Epoch 6/15\n",
      "----------\n"
     ]
    },
    {
     "name": "stderr",
     "output_type": "stream",
     "text": [
      "Train Phase: 100%|██████████| 389/389 [03:33<00:00,  1.82it/s, loss=0.0009]\n"
     ]
    },
    {
     "name": "stdout",
     "output_type": "stream",
     "text": [
      "✅ train Loss: 0.0361 Acc: 0.9882\n"
     ]
    },
    {
     "name": "stderr",
     "output_type": "stream",
     "text": [
      "Val Phase: 100%|██████████| 49/49 [00:40<00:00,  1.20it/s, loss=0.0007]\n"
     ]
    },
    {
     "name": "stdout",
     "output_type": "stream",
     "text": [
      "✅ val Loss: 0.0068 Acc: 0.9981\n",
      "Epoch 7/15\n",
      "----------\n"
     ]
    },
    {
     "name": "stderr",
     "output_type": "stream",
     "text": [
      "Train Phase: 100%|██████████| 389/389 [03:32<00:00,  1.83it/s, loss=0.0000]\n"
     ]
    },
    {
     "name": "stdout",
     "output_type": "stream",
     "text": [
      "✅ train Loss: 0.0329 Acc: 0.9890\n"
     ]
    },
    {
     "name": "stderr",
     "output_type": "stream",
     "text": [
      "Val Phase: 100%|██████████| 49/49 [00:37<00:00,  1.30it/s, loss=0.0014]\n"
     ]
    },
    {
     "name": "stdout",
     "output_type": "stream",
     "text": [
      "✅ val Loss: 0.0125 Acc: 0.9948\n",
      "Epoch 8/15\n",
      "----------\n"
     ]
    },
    {
     "name": "stderr",
     "output_type": "stream",
     "text": [
      "Train Phase: 100%|██████████| 389/389 [03:29<00:00,  1.86it/s, loss=0.0016]\n"
     ]
    },
    {
     "name": "stdout",
     "output_type": "stream",
     "text": [
      "✅ train Loss: 0.0207 Acc: 0.9940\n"
     ]
    },
    {
     "name": "stderr",
     "output_type": "stream",
     "text": [
      "Val Phase: 100%|██████████| 49/49 [00:40<00:00,  1.22it/s, loss=0.0001]\n"
     ]
    },
    {
     "name": "stdout",
     "output_type": "stream",
     "text": [
      "✅ val Loss: 0.0021 Acc: 1.0000\n",
      "🚀 Best validation accuracy updated: 1.0000, Model saved!\n",
      "Epoch 9/15\n",
      "----------\n"
     ]
    },
    {
     "name": "stderr",
     "output_type": "stream",
     "text": [
      "Train Phase: 100%|██████████| 389/389 [03:37<00:00,  1.79it/s, loss=0.0001]\n"
     ]
    },
    {
     "name": "stdout",
     "output_type": "stream",
     "text": [
      "✅ train Loss: 0.0114 Acc: 0.9965\n"
     ]
    },
    {
     "name": "stderr",
     "output_type": "stream",
     "text": [
      "Val Phase: 100%|██████████| 49/49 [00:42<00:00,  1.15it/s, loss=0.0000]\n"
     ]
    },
    {
     "name": "stdout",
     "output_type": "stream",
     "text": [
      "✅ val Loss: 0.0023 Acc: 0.9994\n",
      "Epoch 10/15\n",
      "----------\n"
     ]
    },
    {
     "name": "stderr",
     "output_type": "stream",
     "text": [
      "Train Phase: 100%|██████████| 389/389 [04:02<00:00,  1.60it/s, loss=0.1127]\n"
     ]
    },
    {
     "name": "stdout",
     "output_type": "stream",
     "text": [
      "✅ train Loss: 0.0109 Acc: 0.9959\n"
     ]
    },
    {
     "name": "stderr",
     "output_type": "stream",
     "text": [
      "Val Phase: 100%|██████████| 49/49 [00:44<00:00,  1.11it/s, loss=0.0001]\n"
     ]
    },
    {
     "name": "stdout",
     "output_type": "stream",
     "text": [
      "✅ val Loss: 0.0019 Acc: 0.9987\n",
      "Epoch 11/15\n",
      "----------\n"
     ]
    },
    {
     "name": "stderr",
     "output_type": "stream",
     "text": [
      "Train Phase: 100%|██████████| 389/389 [03:38<00:00,  1.78it/s, loss=1.1215]\n"
     ]
    },
    {
     "name": "stdout",
     "output_type": "stream",
     "text": [
      "✅ train Loss: 0.0102 Acc: 0.9961\n"
     ]
    },
    {
     "name": "stderr",
     "output_type": "stream",
     "text": [
      "Val Phase: 100%|██████████| 49/49 [00:39<00:00,  1.24it/s, loss=0.0002]\n"
     ]
    },
    {
     "name": "stdout",
     "output_type": "stream",
     "text": [
      "✅ val Loss: 0.0014 Acc: 1.0000\n",
      "Epoch 12/15\n",
      "----------\n"
     ]
    },
    {
     "name": "stderr",
     "output_type": "stream",
     "text": [
      "Train Phase: 100%|██████████| 389/389 [03:45<00:00,  1.72it/s, loss=0.0000]\n"
     ]
    },
    {
     "name": "stdout",
     "output_type": "stream",
     "text": [
      "✅ train Loss: 0.0087 Acc: 0.9971\n"
     ]
    },
    {
     "name": "stderr",
     "output_type": "stream",
     "text": [
      "Val Phase: 100%|██████████| 49/49 [00:41<00:00,  1.17it/s, loss=0.0002]\n"
     ]
    },
    {
     "name": "stdout",
     "output_type": "stream",
     "text": [
      "✅ val Loss: 0.0028 Acc: 0.9981\n",
      "Epoch 13/15\n",
      "----------\n"
     ]
    },
    {
     "name": "stderr",
     "output_type": "stream",
     "text": [
      "Train Phase: 100%|██████████| 389/389 [03:45<00:00,  1.73it/s, loss=0.0004]\n"
     ]
    },
    {
     "name": "stdout",
     "output_type": "stream",
     "text": [
      "✅ train Loss: 0.0081 Acc: 0.9973\n"
     ]
    },
    {
     "name": "stderr",
     "output_type": "stream",
     "text": [
      "Val Phase: 100%|██████████| 49/49 [00:43<00:00,  1.14it/s, loss=0.0000]\n"
     ]
    },
    {
     "name": "stdout",
     "output_type": "stream",
     "text": [
      "✅ val Loss: 0.0015 Acc: 0.9987\n",
      "Epoch 14/15\n",
      "----------\n"
     ]
    },
    {
     "name": "stderr",
     "output_type": "stream",
     "text": [
      "Train Phase: 100%|██████████| 389/389 [03:44<00:00,  1.73it/s, loss=0.0000]\n"
     ]
    },
    {
     "name": "stdout",
     "output_type": "stream",
     "text": [
      "✅ train Loss: 0.0101 Acc: 0.9965\n"
     ]
    },
    {
     "name": "stderr",
     "output_type": "stream",
     "text": [
      "Val Phase: 100%|██████████| 49/49 [00:41<00:00,  1.17it/s, loss=0.0000]\n"
     ]
    },
    {
     "name": "stdout",
     "output_type": "stream",
     "text": [
      "✅ val Loss: 0.0012 Acc: 0.9994\n",
      "Epoch 15/15\n",
      "----------\n"
     ]
    },
    {
     "name": "stderr",
     "output_type": "stream",
     "text": [
      "Train Phase: 100%|██████████| 389/389 [03:44<00:00,  1.73it/s, loss=0.0000]\n"
     ]
    },
    {
     "name": "stdout",
     "output_type": "stream",
     "text": [
      "✅ train Loss: 0.0095 Acc: 0.9966\n"
     ]
    },
    {
     "name": "stderr",
     "output_type": "stream",
     "text": [
      "Val Phase: 100%|██████████| 49/49 [00:51<00:00,  1.04s/it, loss=0.0000]\n"
     ]
    },
    {
     "name": "stdout",
     "output_type": "stream",
     "text": [
      "✅ val Loss: 0.0009 Acc: 1.0000\n",
      "\n",
      "Training complete in 64m 53s\n",
      "🏆 Best val Acc: 1.000000\n",
      "\n",
      "--- 최종 모델 성능 평가 (Test Set) ---\n"
     ]
    },
    {
     "name": "stderr",
     "output_type": "stream",
     "text": [
      "Testing: 100%|██████████| 49/49 [00:43<00:00,  1.13it/s]"
     ]
    },
    {
     "name": "stdout",
     "output_type": "stream",
     "text": [
      "\n",
      "✅ Test Loss: 0.0028 | Test Acc: 0.9987\n",
      "\n",
      "📋 Classification Report:\n",
      "              precision    recall  f1-score   support\n",
      "\n",
      "          정상     0.9980    1.0000    0.9990       500\n",
      "       참외노균병     0.9981    1.0000    0.9990       515\n",
      "      참외흰가루병     1.0000    0.9963    0.9981       538\n",
      "\n",
      "    accuracy                         0.9987      1553\n",
      "   macro avg     0.9987    0.9988    0.9987      1553\n",
      "weighted avg     0.9987    0.9987    0.9987      1553\n",
      "\n",
      "📊 Confusion Matrix:\n"
     ]
    },
    {
     "name": "stderr",
     "output_type": "stream",
     "text": [
      "\n",
      "c:\\Users\\427s2\\anaconda3\\envs\\cuda_torch1\\lib\\site-packages\\seaborn\\utils.py:61: UserWarning: Glyph 51221 (\\N{HANGUL SYLLABLE JEONG}) missing from font(s) DejaVu Sans.\n",
      "  fig.canvas.draw()\n",
      "c:\\Users\\427s2\\anaconda3\\envs\\cuda_torch1\\lib\\site-packages\\seaborn\\utils.py:61: UserWarning: Glyph 49345 (\\N{HANGUL SYLLABLE SANG}) missing from font(s) DejaVu Sans.\n",
      "  fig.canvas.draw()\n",
      "c:\\Users\\427s2\\anaconda3\\envs\\cuda_torch1\\lib\\site-packages\\seaborn\\utils.py:61: UserWarning: Glyph 52280 (\\N{HANGUL SYLLABLE CAM}) missing from font(s) DejaVu Sans.\n",
      "  fig.canvas.draw()\n",
      "c:\\Users\\427s2\\anaconda3\\envs\\cuda_torch1\\lib\\site-packages\\seaborn\\utils.py:61: UserWarning: Glyph 50808 (\\N{HANGUL SYLLABLE OE}) missing from font(s) DejaVu Sans.\n",
      "  fig.canvas.draw()\n",
      "c:\\Users\\427s2\\anaconda3\\envs\\cuda_torch1\\lib\\site-packages\\seaborn\\utils.py:61: UserWarning: Glyph 45432 (\\N{HANGUL SYLLABLE NO}) missing from font(s) DejaVu Sans.\n",
      "  fig.canvas.draw()\n",
      "c:\\Users\\427s2\\anaconda3\\envs\\cuda_torch1\\lib\\site-packages\\seaborn\\utils.py:61: UserWarning: Glyph 44512 (\\N{HANGUL SYLLABLE GYUN}) missing from font(s) DejaVu Sans.\n",
      "  fig.canvas.draw()\n",
      "c:\\Users\\427s2\\anaconda3\\envs\\cuda_torch1\\lib\\site-packages\\seaborn\\utils.py:61: UserWarning: Glyph 48337 (\\N{HANGUL SYLLABLE BYEONG}) missing from font(s) DejaVu Sans.\n",
      "  fig.canvas.draw()\n",
      "c:\\Users\\427s2\\anaconda3\\envs\\cuda_torch1\\lib\\site-packages\\seaborn\\utils.py:61: UserWarning: Glyph 55152 (\\N{HANGUL SYLLABLE HYIN}) missing from font(s) DejaVu Sans.\n",
      "  fig.canvas.draw()\n",
      "c:\\Users\\427s2\\anaconda3\\envs\\cuda_torch1\\lib\\site-packages\\seaborn\\utils.py:61: UserWarning: Glyph 44032 (\\N{HANGUL SYLLABLE GA}) missing from font(s) DejaVu Sans.\n",
      "  fig.canvas.draw()\n",
      "c:\\Users\\427s2\\anaconda3\\envs\\cuda_torch1\\lib\\site-packages\\seaborn\\utils.py:61: UserWarning: Glyph 47336 (\\N{HANGUL SYLLABLE RU}) missing from font(s) DejaVu Sans.\n",
      "  fig.canvas.draw()\n",
      "c:\\Users\\427s2\\anaconda3\\envs\\cuda_torch1\\lib\\site-packages\\IPython\\core\\pylabtools.py:152: UserWarning: Glyph 51221 (\\N{HANGUL SYLLABLE JEONG}) missing from font(s) DejaVu Sans.\n",
      "  fig.canvas.print_figure(bytes_io, **kw)\n",
      "c:\\Users\\427s2\\anaconda3\\envs\\cuda_torch1\\lib\\site-packages\\IPython\\core\\pylabtools.py:152: UserWarning: Glyph 49345 (\\N{HANGUL SYLLABLE SANG}) missing from font(s) DejaVu Sans.\n",
      "  fig.canvas.print_figure(bytes_io, **kw)\n",
      "c:\\Users\\427s2\\anaconda3\\envs\\cuda_torch1\\lib\\site-packages\\IPython\\core\\pylabtools.py:152: UserWarning: Glyph 52280 (\\N{HANGUL SYLLABLE CAM}) missing from font(s) DejaVu Sans.\n",
      "  fig.canvas.print_figure(bytes_io, **kw)\n",
      "c:\\Users\\427s2\\anaconda3\\envs\\cuda_torch1\\lib\\site-packages\\IPython\\core\\pylabtools.py:152: UserWarning: Glyph 50808 (\\N{HANGUL SYLLABLE OE}) missing from font(s) DejaVu Sans.\n",
      "  fig.canvas.print_figure(bytes_io, **kw)\n",
      "c:\\Users\\427s2\\anaconda3\\envs\\cuda_torch1\\lib\\site-packages\\IPython\\core\\pylabtools.py:152: UserWarning: Glyph 45432 (\\N{HANGUL SYLLABLE NO}) missing from font(s) DejaVu Sans.\n",
      "  fig.canvas.print_figure(bytes_io, **kw)\n",
      "c:\\Users\\427s2\\anaconda3\\envs\\cuda_torch1\\lib\\site-packages\\IPython\\core\\pylabtools.py:152: UserWarning: Glyph 44512 (\\N{HANGUL SYLLABLE GYUN}) missing from font(s) DejaVu Sans.\n",
      "  fig.canvas.print_figure(bytes_io, **kw)\n",
      "c:\\Users\\427s2\\anaconda3\\envs\\cuda_torch1\\lib\\site-packages\\IPython\\core\\pylabtools.py:152: UserWarning: Glyph 48337 (\\N{HANGUL SYLLABLE BYEONG}) missing from font(s) DejaVu Sans.\n",
      "  fig.canvas.print_figure(bytes_io, **kw)\n",
      "c:\\Users\\427s2\\anaconda3\\envs\\cuda_torch1\\lib\\site-packages\\IPython\\core\\pylabtools.py:152: UserWarning: Glyph 55152 (\\N{HANGUL SYLLABLE HYIN}) missing from font(s) DejaVu Sans.\n",
      "  fig.canvas.print_figure(bytes_io, **kw)\n",
      "c:\\Users\\427s2\\anaconda3\\envs\\cuda_torch1\\lib\\site-packages\\IPython\\core\\pylabtools.py:152: UserWarning: Glyph 44032 (\\N{HANGUL SYLLABLE GA}) missing from font(s) DejaVu Sans.\n",
      "  fig.canvas.print_figure(bytes_io, **kw)\n",
      "c:\\Users\\427s2\\anaconda3\\envs\\cuda_torch1\\lib\\site-packages\\IPython\\core\\pylabtools.py:152: UserWarning: Glyph 47336 (\\N{HANGUL SYLLABLE RU}) missing from font(s) DejaVu Sans.\n",
      "  fig.canvas.print_figure(bytes_io, **kw)\n"
     ]
    },
    {
     "data": {
      "image/png": "[encoded data removed]",
      "text/plain": [
       "<Figure size 1000x700 with 2 Axes>"
      ]
     },
     "metadata": {},
     "output_type": "display_data"
    }
   ],
   "source": [
    "import os\n",
    "import torch\n",
    "import torch.nn as nn\n",
    "import torch.optim as optim\n",
    "from torch.optim import lr_scheduler\n",
    "from torchvision import datasets, models, transforms\n",
    "from torch.utils.data import DataLoader\n",
    "from tqdm import tqdm\n",
    "import time\n",
    "import copy\n",
    "import numpy as np\n",
    "import pandas as pd\n",
    "import seaborn as sns\n",
    "import matplotlib.pyplot as plt\n",
    "from sklearn.metrics import classification_report, confusion_matrix\n",
    "\n",
    "# --- [✨ 추가] 최종 테스트 평가 함수 ---\n",
    "def evaluate_model_on_test_set(model, test_loader, device, class_names, model_path):\n",
    "    \"\"\"\n",
    "    학습이 완료된 후 저장된 최적의 모델을 불러와\n",
    "    test 데이터셋으로 최종 성능을 평가하고, 결과를 시각화합니다.\n",
    "    \"\"\"\n",
    "    # 저장된 최적의 가중치를 모델에 로드\n",
    "    model.load_state_dict(torch.load(model_path))\n",
    "    model.to(device)\n",
    "    model.eval()  # 모델을 평가 모드로 설정\n",
    "\n",
    "    all_preds = []\n",
    "    all_labels = []\n",
    "    running_loss = 0.0\n",
    "    running_corrects = 0\n",
    "    criterion = nn.CrossEntropyLoss()\n",
    "\n",
    "    print(\"\\n--- 최종 모델 성능 평가 (Test Set) ---\")\n",
    "    \n",
    "    with torch.no_grad(): # 그래디언트 계산 비활성화\n",
    "        for inputs, labels in tqdm(test_loader, desc=\"Testing\"):\n",
    "            inputs = inputs.to(device)\n",
    "            labels = labels.to(device)\n",
    "\n",
    "            outputs = model(inputs)\n",
    "            loss = criterion(outputs, labels)\n",
    "            _, preds = torch.max(outputs, 1)\n",
    "\n",
    "            running_loss += loss.item() * inputs.size(0)\n",
    "            running_corrects += torch.sum(preds == labels.data)\n",
    "            \n",
    "            # 나중에 confusion matrix와 classification report를 위해 예측값과 실제값 저장\n",
    "            all_preds.extend(preds.cpu().numpy())\n",
    "            all_labels.extend(labels.cpu().numpy())\n",
    "\n",
    "    # 전체 테스트 데이터에 대한 손실과 정확도\n",
    "    test_loss = running_loss / len(test_loader.dataset)\n",
    "    test_acc = running_corrects.double() / len(test_loader.dataset)\n",
    "    print(f\"\\n✅ Test Loss: {test_loss:.4f} | Test Acc: {test_acc:.4f}\\n\")\n",
    "\n",
    "    # --- Classification Report 출력 ---\n",
    "    print(\"📋 Classification Report:\")\n",
    "    print(classification_report(all_labels, all_preds, target_names=class_names, digits=4))\n",
    "\n",
    "    # --- Confusion Matrix 시각화 ---\n",
    "    print(\"📊 Confusion Matrix:\")\n",
    "    cm = confusion_matrix(all_labels, all_preds)\n",
    "    df_cm = pd.DataFrame(cm, index=class_names, columns=class_names)\n",
    "    \n",
    "    plt.figure(figsize=(10, 7))\n",
    "    sns.heatmap(df_cm, annot=True, fmt='d', cmap='Blues')\n",
    "    plt.title('Confusion Matrix')\n",
    "    plt.xlabel('Predicted Label')\n",
    "    plt.ylabel('True Label')\n",
    "    plt.show()\n",
    "\n",
    "def train_model(model, criterion, optimizer, scheduler, num_epochs, dataloaders, device, model_save_path):\n",
    "    \"\"\"EfficientNet 모델을 학습하고 검증하는 메인 함수\"\"\"\n",
    "    start_time = time.time()\n",
    "    best_model_wts = copy.deepcopy(model.state_dict())\n",
    "    best_acc = 0.0\n",
    "    scaler = torch.cuda.amp.GradScaler()\n",
    "\n",
    "    for epoch in range(num_epochs):\n",
    "        print(f'Epoch {epoch+1}/{num_epochs}')\n",
    "        print('-' * 10)\n",
    "\n",
    "        for phase in ['train', 'val']:\n",
    "            if phase == 'train':\n",
    "                model.train()\n",
    "            else:\n",
    "                model.eval()\n",
    "\n",
    "            running_loss = 0.0\n",
    "            running_corrects = 0\n",
    "            progress_bar = tqdm(dataloaders[phase], desc=f\"{phase.capitalize()} Phase\")\n",
    "\n",
    "            for inputs, labels in progress_bar:\n",
    "                inputs = inputs.to(device)\n",
    "                labels = labels.to(device)\n",
    "                optimizer.zero_grad()\n",
    "\n",
    "                with torch.set_grad_enabled(phase == 'train'):\n",
    "                    with torch.cuda.amp.autocast():\n",
    "                        outputs = model(inputs)\n",
    "                        _, preds = torch.max(outputs, 1)\n",
    "                        loss = criterion(outputs, labels)\n",
    "\n",
    "                    if phase == 'train':\n",
    "                        scaler.scale(loss).backward()\n",
    "                        scaler.step(optimizer)\n",
    "                        scaler.update()\n",
    "\n",
    "                running_loss += loss.item() * inputs.size(0)\n",
    "                running_corrects += torch.sum(preds == labels.data)\n",
    "                progress_bar.set_postfix(loss=f'{loss.item():.4f}')\n",
    "\n",
    "            if phase == 'train':\n",
    "                scheduler.step()\n",
    "\n",
    "            epoch_loss = running_loss / len(dataloaders[phase].dataset)\n",
    "            epoch_acc = running_corrects.double() / len(dataloaders[phase].dataset)\n",
    "            print(f'✅ {phase} Loss: {epoch_loss:.4f} Acc: {epoch_acc:.4f}')\n",
    "\n",
    "            if phase == 'val' and epoch_acc > best_acc:\n",
    "                best_acc = epoch_acc\n",
    "                best_model_wts = copy.deepcopy(model.state_dict())\n",
    "                torch.save(model.state_dict(), model_save_path)\n",
    "                print(f'🚀 Best validation accuracy updated: {best_acc:.4f}, Model saved!')\n",
    "\n",
    "    time_elapsed = time.time() - start_time\n",
    "    print(f'\\nTraining complete in {time_elapsed // 60:.0f}m {time_elapsed % 60:.0f}s')\n",
    "    print(f'🏆 Best val Acc: {best_acc:4f}')\n",
    "\n",
    "    model.load_state_dict(best_model_wts)\n",
    "    return model\n",
    "\n",
    "if __name__ == '__main__':\n",
    "    # --- 1. 설정 및 하이퍼파라미터 ---\\\n",
    "    DEVICE = torch.device(\"cuda\" if torch.cuda.is_available() else \"cpu\")\n",
    "    print(f\"Using device: {DEVICE}\")\n",
    "\n",
    "    # ✨ [수정] 새로운 데이터셋 경로로 변경\n",
    "    DATA_PATH = r'C:\\Users\\427s2\\KSEB\\k_melon\\effinet_811_dataset'\n",
    "    MODEL_SAVE_PATH = 'best_k_melon_classifier_811.pth'\n",
    "    \n",
    "    IMG_SIZE = 240\n",
    "    BATCH_SIZE = 32\n",
    "    NUM_EPOCHS = 15\n",
    "    LEARNING_RATE = 0.001\n",
    "\n",
    "    # --- 2. 데이터 전처리 및 로더 준비 ---\n",
    "    data_transforms = {\n",
    "        'train': transforms.Compose([\n",
    "            transforms.RandomResizedCrop(IMG_SIZE),\n",
    "            transforms.RandomHorizontalFlip(),\n",
    "            transforms.RandomRotation(15),\n",
    "            transforms.ToTensor(),\n",
    "            transforms.Normalize([0.485, 0.456, 0.406], [0.229, 0.224, 0.225])\n",
    "        ]),\n",
    "        'val': transforms.Compose([\n",
    "            transforms.Resize(IMG_SIZE),\n",
    "            transforms.CenterCrop(IMG_SIZE),\n",
    "            transforms.ToTensor(),\n",
    "            transforms.Normalize([0.485, 0.456, 0.406], [0.229, 0.224, 0.225])\n",
    "        ]),\n",
    "        # ✨ [추가] test 데이터셋을 위한 변환 (val과 동일하게)\n",
    "        'test': transforms.Compose([\n",
    "            transforms.Resize(IMG_SIZE),\n",
    "            transforms.CenterCrop(IMG_SIZE),\n",
    "            transforms.ToTensor(),\n",
    "            transforms.Normalize([0.485, 0.456, 0.406], [0.229, 0.224, 0.225])\n",
    "        ]),\n",
    "    }\n",
    "\n",
    "    # ✨ [수정] train, val, test 데이터셋 모두 로드\n",
    "    image_datasets = {x: datasets.ImageFolder(os.path.join(DATA_PATH, x), data_transforms[x])\n",
    "                    for x in ['train', 'val', 'test']}\n",
    "    \n",
    "    # ✨ [수정] train, val은 학습에 사용하므로 shuffle=True, test는 평가에만 사용하므로 shuffle=False\n",
    "    dataloaders = {\n",
    "        'train': DataLoader(image_datasets['train'], batch_size=BATCH_SIZE, shuffle=True, num_workers=4),\n",
    "        'val': DataLoader(image_datasets['val'], batch_size=BATCH_SIZE, shuffle=False, num_workers=4),\n",
    "        'test': DataLoader(image_datasets['test'], batch_size=BATCH_SIZE, shuffle=False, num_workers=4)\n",
    "    }\n",
    "    \n",
    "    class_names = image_datasets['train'].classes\n",
    "    NUM_CLASSES = len(class_names)\n",
    "    print(\"Class names:\", class_names)\n",
    "    print(f\"Number of classes: {NUM_CLASSES}\")\n",
    "\n",
    "    # --- 3. 모델 준비 ---\n",
    "    model = models.efficientnet_b1(weights=models.EfficientNet_B1_Weights.DEFAULT)\n",
    "    num_ftrs = model.classifier[1].in_features\n",
    "    model.classifier[1] = nn.Linear(num_ftrs, NUM_CLASSES)\n",
    "    model = model.to(DEVICE)\n",
    "\n",
    "    # --- 4. 손실 함수, 옵티마이저, 스케줄러 정의 ---\n",
    "    criterion = nn.CrossEntropyLoss()\n",
    "    optimizer = optim.Adam(model.parameters(), lr=LEARNING_RATE)\n",
    "    exp_lr_scheduler = lr_scheduler.StepLR(optimizer, step_size=7, gamma=0.1)\n",
    "\n",
    "    # --- 5. 모델 학습 시작 ---\n",
    "    # train_model 함수는 학습 및 검증을 수행하고, 가장 좋았던 모델 상태를 반환합니다.\n",
    "    trained_model = train_model(model, criterion, optimizer, exp_lr_scheduler,\n",
    "                                num_epochs=NUM_EPOCHS, \n",
    "                                dataloaders={'train': dataloaders['train'], 'val': dataloaders['val']}, \n",
    "                                device=DEVICE, \n",
    "                                model_save_path=MODEL_SAVE_PATH)\n",
    "\n",
    "    # --- 6. ✨ [추가] 학습 완료 후 Test Set으로 최종 평가 ---\n",
    "    evaluate_model_on_test_set(model=trained_model, \n",
    "                            test_loader=dataloaders['test'], \n",
    "                            device=DEVICE, \n",
    "                            class_names=class_names,\n",
    "                            model_path=MODEL_SAVE_PATH)"
   ]
  },
  {
   "cell_type": "code",
   "execution_count": 3,
   "id": "0e7bdf5e",
   "metadata": {},
   "outputs": [
    {
     "name": "stdout",
     "output_type": "stream",
     "text": [
      "\n",
      "--- 예측 결과 ---\n",
      "✅ 이미지: C:\\Users\\A\\Desktop\\PGH_folder\\kyonggi_univ\\KSEB\\fastapi\\app\\ai_models\\test.jpg\n",
      "🔍 예측된 클래스: **참외노균병**\n",
      "🎯 신뢰도: **95.76%**\n"
     ]
    }
   ],
   "source": [
    "import torch\n",
    "import torch.nn.functional as F\n",
    "from torchvision import models, transforms\n",
    "from PIL import Image\n",
    "import json\n",
    "\n",
    "def predict_image(model_path, image_path, class_names, device):\n",
    "    \"\"\"\n",
    "    학습된 모델을 로드하여 단일 이미지의 클래스를 예측합니다.\n",
    "\n",
    "    Args:\n",
    "        model_path (str): 저장된 모델 파일(.pth)의 경로\n",
    "        image_path (str): 테스트할 이미지 파일의 경로\n",
    "        class_names (list): 학습 시 사용된 클래스 이름 리스트\n",
    "        device (torch.device): 연산을 수행할 장치 (cpu 또는 cuda)\n",
    "\n",
    "    Returns:\n",
    "        tuple: (예측된 클래스 이름, 신뢰도 확률)\n",
    "    \"\"\"\n",
    "    # 1. 모델 아키텍처 불러오기 및 최종 레이어 수정\n",
    "    num_classes = len(class_names)\n",
    "    model = models.efficientnet_b1(weights=None) # 사전학습 가중치는 사용 안 함\n",
    "    num_ftrs = model.classifier[1].in_features\n",
    "    model.classifier[1] = torch.nn.Linear(num_ftrs, num_classes)\n",
    "\n",
    "    # 2. 학습된 가중치(state_dict) 로드\n",
    "    model.load_state_dict(torch.load(model_path, map_location=device))\n",
    "    model = model.to(device)\n",
    "    model.eval()  # 모델을 평가 모드로 설정 (dropout, batchnorm 비활성화)\n",
    "\n",
    "    # 3. 이미지 전처리 (학습 시 validation 단계와 동일하게)\n",
    "    preprocess = transforms.Compose([\n",
    "        transforms.Resize(240),\n",
    "        transforms.CenterCrop(240),\n",
    "        transforms.ToTensor(),\n",
    "        transforms.Normalize([0.485, 0.456, 0.406], [0.229, 0.224, 0.225])\n",
    "    ])\n",
    "\n",
    "    try:\n",
    "        image = Image.open(image_path).convert('RGB')\n",
    "        image_tensor = preprocess(image).unsqueeze(0).to(device) # 배치 차원 추가\n",
    "    except FileNotFoundError:\n",
    "        return f\"오류: '{image_path}' 파일을 찾을 수 없습니다.\", 0.0\n",
    "\n",
    "    # 4. 예측 수행\n",
    "    with torch.no_grad(): # 그래디언트 계산 비활성화\n",
    "        outputs = model(image_tensor)\n",
    "        # Softmax를 적용하여 확률로 변환\n",
    "        probabilities = F.softmax(outputs, dim=1)\n",
    "        # 가장 높은 확률과 해당 인덱스 가져오기\n",
    "        confidence, predicted_idx = torch.max(probabilities, 1)\n",
    "\n",
    "    # 5. 결과 반환\n",
    "    predicted_class = class_names[predicted_idx.item()]\n",
    "    confidence_score = confidence.item() * 100\n",
    "\n",
    "    return predicted_class, confidence_score\n",
    "\n",
    "\n",
    "if __name__ == '__main__':\n",
    "    # --- 설정 ---\n",
    "    DEVICE = torch.device(\"cuda\" if torch.cuda.is_available() else \"cpu\")\n",
    "    \n",
    "    # 📂 학습된 모델 파일 경로\n",
    "    MODEL_PATH = r'C:\\Users\\A\\Desktop\\PGH_folder\\kyonggi_univ\\KSEB\\fastapi\\app\\ai_models\\best_k_melon_classifier_811.pth'\n",
    "    \n",
    "    # 🖼️ 테스트하고 싶은 이미지 파일 경로 (이 부분을 수정하세요!)\n",
    "    IMAGE_TO_TEST = r'C:\\Users\\A\\Desktop\\PGH_folder\\kyonggi_univ\\KSEB\\fastapi\\app\\ai_models\\test.jpg' \n",
    "    \n",
    "    # ❗ 클래스 이름 (train.py에서 사용한 순서와 반드시 동일해야 함)\n",
    "    CLASS_NAMES = ['정상', '참외노균병', '참외흰가루병']\n",
    "    \n",
    "    # --- 예측 실행 ---\n",
    "    predicted_class, confidence = predict_image(MODEL_PATH, IMAGE_TO_TEST, CLASS_NAMES, DEVICE)\n",
    "    \n",
    "    if \"오류\" in predicted_class:\n",
    "        print(predicted_class)\n",
    "    else:\n",
    "        print(\"\\n--- 예측 결과 ---\")\n",
    "        print(f\"✅ 이미지: {IMAGE_TO_TEST}\")\n",
    "        print(f\"🔍 예측된 클래스: **{predicted_class}**\")\n",
    "        print(f\"🎯 신뢰도: **{confidence:.2f}%**\")"
   ]
  }
 ],
 "metadata": {
  "kernelspec": {
   "display_name": "ghpark1",
   "language": "python",
   "name": "python3"
  },
  "language_info": {
   "codemirror_mode": {
    "name": "ipython",
    "version": 3
   },
   "file_extension": ".py",
   "mimetype": "text/x-python",
   "name": "python",
   "nbconvert_exporter": "python",
   "pygments_lexer": "ipython3",
   "version": "3.9.21"
  }
 },
 "nbformat": 4,
 "nbformat_minor": 5
}
