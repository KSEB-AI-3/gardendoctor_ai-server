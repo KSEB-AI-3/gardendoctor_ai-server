{
 "cells": [
  {
   "cell_type": "code",
   "execution_count": 9,
   "id": "b61101f0",
   "metadata": {},
   "outputs": [],
   "source": [
    "import os\n",
    "import torch\n",
    "import torch.nn as nn\n",
    "import torch.optim as optim\n",
    "from torch.optim import lr_scheduler\n",
    "from torchvision import datasets, models, transforms\n",
    "from torch.utils.data import DataLoader\n",
    "from tqdm import tqdm\n",
    "import time\n",
    "import copy\n",
    "import numpy as np\n",
    "import pandas as pd\n",
    "import seaborn as sns\n",
    "import matplotlib.pyplot as plt\n",
    "from sklearn.metrics import classification_report, confusion_matrix"
   ]
  },
  {
   "cell_type": "code",
   "execution_count": 10,
   "id": "28da7474",
   "metadata": {},
   "outputs": [],
   "source": [
    "# --- [✨ 추가] 최종 테스트 평가 함수 ---\n",
    "def evaluate_model_on_test_set(model, test_loader, device, class_names, model_path):\n",
    "    \"\"\"\n",
    "    학습이 완료된 후 저장된 최적의 모델을 불러와\n",
    "    test 데이터셋으로 최종 성능을 평가하고, 결과를 시각화합니다.\n",
    "    \"\"\"\n",
    "    # 저장된 최적의 가중치를 모델에 로드\n",
    "    model.load_state_dict(torch.load(model_path))\n",
    "    model.to(device)\n",
    "    model.eval()  # 모델을 평가 모드로 설정\n",
    "\n",
    "    all_preds = []\n",
    "    all_labels = []\n",
    "    running_loss = 0.0\n",
    "    running_corrects = 0\n",
    "    criterion = nn.CrossEntropyLoss()\n",
    "\n",
    "    print(\"\\n--- 최종 모델 성능 평가 (Test Set) ---\")\n",
    "    \n",
    "    with torch.no_grad(): # 그래디언트 계산 비활성화\n",
    "        for inputs, labels in tqdm(test_loader, desc=\"Testing\"):\n",
    "            inputs = inputs.to(device)\n",
    "            labels = labels.to(device)\n",
    "\n",
    "            outputs = model(inputs)\n",
    "            loss = criterion(outputs, labels)\n",
    "            _, preds = torch.max(outputs, 1)\n",
    "\n",
    "            running_loss += loss.item() * inputs.size(0)\n",
    "            running_corrects += torch.sum(preds == labels.data)\n",
    "            \n",
    "            # 나중에 confusion matrix와 classification report를 위해 예측값과 실제값 저장\n",
    "            all_preds.extend(preds.cpu().numpy())\n",
    "            all_labels.extend(labels.cpu().numpy())\n",
    "\n",
    "    # 전체 테스트 데이터에 대한 손실과 정확도\n",
    "    test_loss = running_loss / len(test_loader.dataset)\n",
    "    test_acc = running_corrects.double() / len(test_loader.dataset)\n",
    "    print(f\"\\n✅ Test Loss: {test_loss:.4f} | Test Acc: {test_acc:.4f}\\n\")\n",
    "\n",
    "    # --- Classification Report 출력 ---\n",
    "    print(\"📋 Classification Report:\")\n",
    "    print(classification_report(all_labels, all_preds, target_names=class_names, digits=4))\n",
    "\n",
    "    # --- Confusion Matrix 시각화 ---\n",
    "    print(\"📊 Confusion Matrix:\")\n",
    "    cm = confusion_matrix(all_labels, all_preds)\n",
    "    df_cm = pd.DataFrame(cm, index=class_names, columns=class_names)\n",
    "    \n",
    "    # ✨ --- 한글 폰트 설정 시작 --- ✨\n",
    "    try:\n",
    "        import matplotlib.pyplot as plt\n",
    "        # Windows 운영체제의 경우\n",
    "        plt.rc('font', family='Malgun Gothic')\n",
    "    except ImportError:\n",
    "        print(\"matplotlib 라이브러리를 찾을 수 없습니다.\")\n",
    "    except Exception as e:\n",
    "        print(f\"폰트 설정 중 오류 발생: {e}\")\n",
    "        print(\"macOS는 'AppleGothic', Linux는 'NanumGothic'을 시도해 보세요.\")\n",
    "\n",
    "    # 마이너스 기호가 깨지는 것을 방지\n",
    "    plt.rcParams['axes.unicode_minus'] = False\n",
    "    # ✨ --- 한글 폰트 설정 종료 --- ✨\n",
    "\n",
    "    plt.figure(figsize=(10, 7))\n",
    "    sns.heatmap(df_cm, annot=True, fmt='d', cmap='Blues')\n",
    "    plt.title('Confusion Matrix', fontsize=16) # 타이틀 폰트 크기 조절\n",
    "    plt.xlabel('Predicted Label', fontsize=12) # x축 라벨 폰트 크기 조절\n",
    "    plt.ylabel('True Label', fontsize=12) # y축 라벨 폰트 크기 조절\n",
    "    plt.show()\n"
   ]
  },
  {
   "cell_type": "code",
   "execution_count": 11,
   "id": "52f02dfd",
   "metadata": {},
   "outputs": [],
   "source": [
    "def train_model(model, criterion, optimizer, scheduler, num_epochs, dataloaders, device, model_save_path):\n",
    "    \"\"\"EfficientNet 모델을 학습하고 검증하는 메인 함수\"\"\"\n",
    "    start_time = time.time()\n",
    "    best_model_wts = copy.deepcopy(model.state_dict())\n",
    "    best_acc = 0.0\n",
    "    scaler = torch.cuda.amp.GradScaler()\n",
    "\n",
    "    for epoch in range(num_epochs):\n",
    "        print(f'Epoch {epoch+1}/{num_epochs}')\n",
    "        print('-' * 10)\n",
    "\n",
    "        for phase in ['train', 'val']:\n",
    "            if phase == 'train':\n",
    "                model.train()\n",
    "            else:\n",
    "                model.eval()\n",
    "\n",
    "            running_loss = 0.0\n",
    "            running_corrects = 0\n",
    "            progress_bar = tqdm(dataloaders[phase], desc=f\"{phase.capitalize()} Phase\")\n",
    "\n",
    "            for inputs, labels in progress_bar:\n",
    "                inputs = inputs.to(device)\n",
    "                labels = labels.to(device)\n",
    "                optimizer.zero_grad()\n",
    "\n",
    "                with torch.set_grad_enabled(phase == 'train'):\n",
    "                    with torch.cuda.amp.autocast():\n",
    "                        outputs = model(inputs)\n",
    "                        _, preds = torch.max(outputs, 1)\n",
    "                        loss = criterion(outputs, labels)\n",
    "\n",
    "                    if phase == 'train':\n",
    "                        scaler.scale(loss).backward()\n",
    "                        scaler.step(optimizer)\n",
    "                        scaler.update()\n",
    "\n",
    "                running_loss += loss.item() * inputs.size(0)\n",
    "                running_corrects += torch.sum(preds == labels.data)\n",
    "                progress_bar.set_postfix(loss=f'{loss.item():.4f}')\n",
    "\n",
    "            if phase == 'train':\n",
    "                scheduler.step()\n",
    "\n",
    "            epoch_loss = running_loss / len(dataloaders[phase].dataset)\n",
    "            epoch_acc = running_corrects.double() / len(dataloaders[phase].dataset)\n",
    "            print(f'✅ {phase} Loss: {epoch_loss:.4f} Acc: {epoch_acc:.4f}')\n",
    "\n",
    "            if phase == 'val' and epoch_acc > best_acc:\n",
    "                best_acc = epoch_acc\n",
    "                best_model_wts = copy.deepcopy(model.state_dict())\n",
    "                torch.save(model.state_dict(), model_save_path)\n",
    "                print(f'🚀 Best validation accuracy updated: {best_acc:.4f}, Model saved!')\n",
    "\n",
    "    time_elapsed = time.time() - start_time\n",
    "    print(f'\\nTraining complete in {time_elapsed // 60:.0f}m {time_elapsed % 60:.0f}s')\n",
    "    print(f'🏆 Best val Acc: {best_acc:4f}')\n",
    "\n",
    "    model.load_state_dict(best_model_wts)\n",
    "    return model\n"
   ]
  },
  {
   "cell_type": "code",
   "execution_count": 12,
   "id": "1be51494",
   "metadata": {},
   "outputs": [
    {
     "name": "stdout",
     "output_type": "stream",
     "text": [
      "Using device: cuda\n",
      "\n",
      "--- 데이터셋 상세 정보 ---\n",
      "\n",
      "✅ Train Dataset: 총 19602개\n",
      "  - 단호박점무늬병: 7576개\n",
      "  - 단호박흰가루병: 6426개\n",
      "  - 정상: 5600개\n",
      "\n",
      "✅ Val Dataset: 총 2483개\n",
      "  - 단호박점무늬병: 947개\n",
      "  - 단호박흰가루병: 836개\n",
      "  - 정상: 700개\n",
      "\n",
      "✅ Test Dataset: 총 2486개\n",
      "  - 단호박점무늬병: 948개\n",
      "  - 단호박흰가루병: 838개\n",
      "  - 정상: 700개\n",
      "---------------------------\n",
      "\n",
      "Class names: ['단호박점무늬병', '단호박흰가루병', '정상']\n",
      "Number of classes: 3\n"
     ]
    },
    {
     "name": "stderr",
     "output_type": "stream",
     "text": [
      "C:\\Users\\427s2\\AppData\\Local\\Temp\\ipykernel_10828\\1756973827.py:6: FutureWarning: `torch.cuda.amp.GradScaler(args...)` is deprecated. Please use `torch.amp.GradScaler('cuda', args...)` instead.\n",
      "  scaler = torch.cuda.amp.GradScaler()\n"
     ]
    },
    {
     "name": "stdout",
     "output_type": "stream",
     "text": [
      "Epoch 1/15\n",
      "----------\n"
     ]
    },
    {
     "name": "stderr",
     "output_type": "stream",
     "text": [
      "Train Phase:   0%|          | 0/613 [00:00<?, ?it/s]C:\\Users\\427s2\\AppData\\Local\\Temp\\ipykernel_10828\\1756973827.py:28: FutureWarning: `torch.cuda.amp.autocast(args...)` is deprecated. Please use `torch.amp.autocast('cuda', args...)` instead.\n",
      "  with torch.cuda.amp.autocast():\n",
      "Train Phase: 100%|██████████| 613/613 [05:50<00:00,  1.75it/s, loss=0.0139]\n"
     ]
    },
    {
     "name": "stdout",
     "output_type": "stream",
     "text": [
      "✅ train Loss: 0.0926 Acc: 0.9732\n"
     ]
    },
    {
     "name": "stderr",
     "output_type": "stream",
     "text": [
      "Val Phase: 100%|██████████| 78/78 [00:58<00:00,  1.33it/s, loss=0.0006]\n"
     ]
    },
    {
     "name": "stdout",
     "output_type": "stream",
     "text": [
      "✅ val Loss: 0.0118 Acc: 0.9972\n",
      "🚀 Best validation accuracy updated: 0.9972, Model saved!\n",
      "Epoch 2/15\n",
      "----------\n"
     ]
    },
    {
     "name": "stderr",
     "output_type": "stream",
     "text": [
      "Train Phase: 100%|██████████| 613/613 [05:55<00:00,  1.73it/s, loss=0.0071]\n"
     ]
    },
    {
     "name": "stdout",
     "output_type": "stream",
     "text": [
      "✅ train Loss: 0.0466 Acc: 0.9868\n"
     ]
    },
    {
     "name": "stderr",
     "output_type": "stream",
     "text": [
      "Val Phase: 100%|██████████| 78/78 [00:57<00:00,  1.35it/s, loss=0.0000]\n"
     ]
    },
    {
     "name": "stdout",
     "output_type": "stream",
     "text": [
      "✅ val Loss: 0.0116 Acc: 0.9964\n",
      "Epoch 3/15\n",
      "----------\n"
     ]
    },
    {
     "name": "stderr",
     "output_type": "stream",
     "text": [
      "Train Phase: 100%|██████████| 613/613 [05:40<00:00,  1.80it/s, loss=0.0030]\n"
     ]
    },
    {
     "name": "stdout",
     "output_type": "stream",
     "text": [
      "✅ train Loss: 0.0432 Acc: 0.9873\n"
     ]
    },
    {
     "name": "stderr",
     "output_type": "stream",
     "text": [
      "Val Phase: 100%|██████████| 78/78 [00:59<00:00,  1.32it/s, loss=0.0002]\n"
     ]
    },
    {
     "name": "stdout",
     "output_type": "stream",
     "text": [
      "✅ val Loss: 0.0071 Acc: 0.9980\n",
      "🚀 Best validation accuracy updated: 0.9980, Model saved!\n",
      "Epoch 4/15\n",
      "----------\n"
     ]
    },
    {
     "name": "stderr",
     "output_type": "stream",
     "text": [
      "Train Phase: 100%|██████████| 613/613 [05:44<00:00,  1.78it/s, loss=0.3463]\n"
     ]
    },
    {
     "name": "stdout",
     "output_type": "stream",
     "text": [
      "✅ train Loss: 0.0369 Acc: 0.9891\n"
     ]
    },
    {
     "name": "stderr",
     "output_type": "stream",
     "text": [
      "Val Phase: 100%|██████████| 78/78 [00:59<00:00,  1.32it/s, loss=0.0000]\n"
     ]
    },
    {
     "name": "stdout",
     "output_type": "stream",
     "text": [
      "✅ val Loss: 0.0062 Acc: 0.9988\n",
      "🚀 Best validation accuracy updated: 0.9988, Model saved!\n",
      "Epoch 5/15\n",
      "----------\n"
     ]
    },
    {
     "name": "stderr",
     "output_type": "stream",
     "text": [
      "Train Phase: 100%|██████████| 613/613 [05:40<00:00,  1.80it/s, loss=0.0007]\n"
     ]
    },
    {
     "name": "stdout",
     "output_type": "stream",
     "text": [
      "✅ train Loss: 0.0349 Acc: 0.9893\n"
     ]
    },
    {
     "name": "stderr",
     "output_type": "stream",
     "text": [
      "Val Phase: 100%|██████████| 78/78 [00:59<00:00,  1.32it/s, loss=0.0000]\n"
     ]
    },
    {
     "name": "stdout",
     "output_type": "stream",
     "text": [
      "✅ val Loss: 0.0063 Acc: 0.9980\n",
      "Epoch 6/15\n",
      "----------\n"
     ]
    },
    {
     "name": "stderr",
     "output_type": "stream",
     "text": [
      "Train Phase: 100%|██████████| 613/613 [05:39<00:00,  1.80it/s, loss=1.0860]\n"
     ]
    },
    {
     "name": "stdout",
     "output_type": "stream",
     "text": [
      "✅ train Loss: 0.0368 Acc: 0.9899\n"
     ]
    },
    {
     "name": "stderr",
     "output_type": "stream",
     "text": [
      "Val Phase: 100%|██████████| 78/78 [00:58<00:00,  1.33it/s, loss=0.0000]\n"
     ]
    },
    {
     "name": "stdout",
     "output_type": "stream",
     "text": [
      "✅ val Loss: 0.0039 Acc: 0.9992\n",
      "🚀 Best validation accuracy updated: 0.9992, Model saved!\n",
      "Epoch 7/15\n",
      "----------\n"
     ]
    },
    {
     "name": "stderr",
     "output_type": "stream",
     "text": [
      "Train Phase: 100%|██████████| 613/613 [05:42<00:00,  1.79it/s, loss=0.0562]\n"
     ]
    },
    {
     "name": "stdout",
     "output_type": "stream",
     "text": [
      "✅ train Loss: 0.0423 Acc: 0.9876\n"
     ]
    },
    {
     "name": "stderr",
     "output_type": "stream",
     "text": [
      "Val Phase: 100%|██████████| 78/78 [00:58<00:00,  1.33it/s, loss=0.0000]\n"
     ]
    },
    {
     "name": "stdout",
     "output_type": "stream",
     "text": [
      "✅ val Loss: 0.0679 Acc: 0.9787\n",
      "Epoch 8/15\n",
      "----------\n"
     ]
    },
    {
     "name": "stderr",
     "output_type": "stream",
     "text": [
      "Train Phase: 100%|██████████| 613/613 [05:37<00:00,  1.82it/s, loss=0.0002]\n"
     ]
    },
    {
     "name": "stdout",
     "output_type": "stream",
     "text": [
      "✅ train Loss: 0.0188 Acc: 0.9946\n"
     ]
    },
    {
     "name": "stderr",
     "output_type": "stream",
     "text": [
      "Val Phase: 100%|██████████| 78/78 [00:58<00:00,  1.33it/s, loss=0.0001]\n"
     ]
    },
    {
     "name": "stdout",
     "output_type": "stream",
     "text": [
      "✅ val Loss: 0.0030 Acc: 0.9992\n",
      "Epoch 9/15\n",
      "----------\n"
     ]
    },
    {
     "name": "stderr",
     "output_type": "stream",
     "text": [
      "Train Phase: 100%|██████████| 613/613 [05:39<00:00,  1.81it/s, loss=0.0006]\n"
     ]
    },
    {
     "name": "stdout",
     "output_type": "stream",
     "text": [
      "✅ train Loss: 0.0133 Acc: 0.9961\n"
     ]
    },
    {
     "name": "stderr",
     "output_type": "stream",
     "text": [
      "Val Phase: 100%|██████████| 78/78 [00:59<00:00,  1.32it/s, loss=0.0000]\n"
     ]
    },
    {
     "name": "stdout",
     "output_type": "stream",
     "text": [
      "✅ val Loss: 0.0036 Acc: 0.9988\n",
      "Epoch 10/15\n",
      "----------\n"
     ]
    },
    {
     "name": "stderr",
     "output_type": "stream",
     "text": [
      "Train Phase: 100%|██████████| 613/613 [05:41<00:00,  1.80it/s, loss=0.0036]\n"
     ]
    },
    {
     "name": "stdout",
     "output_type": "stream",
     "text": [
      "✅ train Loss: 0.0122 Acc: 0.9965\n"
     ]
    },
    {
     "name": "stderr",
     "output_type": "stream",
     "text": [
      "Val Phase: 100%|██████████| 78/78 [00:57<00:00,  1.35it/s, loss=0.0000]\n"
     ]
    },
    {
     "name": "stdout",
     "output_type": "stream",
     "text": [
      "✅ val Loss: 0.0023 Acc: 0.9996\n",
      "🚀 Best validation accuracy updated: 0.9996, Model saved!\n",
      "Epoch 11/15\n",
      "----------\n"
     ]
    },
    {
     "name": "stderr",
     "output_type": "stream",
     "text": [
      "Train Phase: 100%|██████████| 613/613 [05:48<00:00,  1.76it/s, loss=0.0014]\n"
     ]
    },
    {
     "name": "stdout",
     "output_type": "stream",
     "text": [
      "✅ train Loss: 0.0103 Acc: 0.9971\n"
     ]
    },
    {
     "name": "stderr",
     "output_type": "stream",
     "text": [
      "Val Phase: 100%|██████████| 78/78 [00:58<00:00,  1.33it/s, loss=0.0000]\n"
     ]
    },
    {
     "name": "stdout",
     "output_type": "stream",
     "text": [
      "✅ val Loss: 0.0021 Acc: 0.9992\n",
      "Epoch 12/15\n",
      "----------\n"
     ]
    },
    {
     "name": "stderr",
     "output_type": "stream",
     "text": [
      "Train Phase: 100%|██████████| 613/613 [05:40<00:00,  1.80it/s, loss=0.0001]\n"
     ]
    },
    {
     "name": "stdout",
     "output_type": "stream",
     "text": [
      "✅ train Loss: 0.0093 Acc: 0.9973\n"
     ]
    },
    {
     "name": "stderr",
     "output_type": "stream",
     "text": [
      "Val Phase: 100%|██████████| 78/78 [00:59<00:00,  1.31it/s, loss=0.0000]\n"
     ]
    },
    {
     "name": "stdout",
     "output_type": "stream",
     "text": [
      "✅ val Loss: 0.0012 Acc: 0.9996\n",
      "Epoch 13/15\n",
      "----------\n"
     ]
    },
    {
     "name": "stderr",
     "output_type": "stream",
     "text": [
      "Train Phase: 100%|██████████| 613/613 [05:38<00:00,  1.81it/s, loss=0.0206]\n"
     ]
    },
    {
     "name": "stdout",
     "output_type": "stream",
     "text": [
      "✅ train Loss: 0.0089 Acc: 0.9974\n"
     ]
    },
    {
     "name": "stderr",
     "output_type": "stream",
     "text": [
      "Val Phase: 100%|██████████| 78/78 [00:58<00:00,  1.33it/s, loss=0.0000]\n"
     ]
    },
    {
     "name": "stdout",
     "output_type": "stream",
     "text": [
      "✅ val Loss: 0.0012 Acc: 0.9996\n",
      "Epoch 14/15\n",
      "----------\n"
     ]
    },
    {
     "name": "stderr",
     "output_type": "stream",
     "text": [
      "Train Phase: 100%|██████████| 613/613 [05:41<00:00,  1.80it/s, loss=0.0001]\n"
     ]
    },
    {
     "name": "stdout",
     "output_type": "stream",
     "text": [
      "✅ train Loss: 0.0069 Acc: 0.9981\n"
     ]
    },
    {
     "name": "stderr",
     "output_type": "stream",
     "text": [
      "Val Phase: 100%|██████████| 78/78 [00:58<00:00,  1.34it/s, loss=0.0000]\n"
     ]
    },
    {
     "name": "stdout",
     "output_type": "stream",
     "text": [
      "✅ val Loss: 0.0005 Acc: 1.0000\n",
      "🚀 Best validation accuracy updated: 1.0000, Model saved!\n",
      "Epoch 15/15\n",
      "----------\n"
     ]
    },
    {
     "name": "stderr",
     "output_type": "stream",
     "text": [
      "Train Phase: 100%|██████████| 613/613 [05:38<00:00,  1.81it/s, loss=0.0002]\n"
     ]
    },
    {
     "name": "stdout",
     "output_type": "stream",
     "text": [
      "✅ train Loss: 0.0069 Acc: 0.9978\n"
     ]
    },
    {
     "name": "stderr",
     "output_type": "stream",
     "text": [
      "Val Phase: 100%|██████████| 78/78 [00:58<00:00,  1.33it/s, loss=0.0000]\n"
     ]
    },
    {
     "name": "stdout",
     "output_type": "stream",
     "text": [
      "✅ val Loss: 0.0006 Acc: 1.0000\n",
      "\n",
      "Training complete in 100m 20s\n",
      "🏆 Best val Acc: 1.000000\n",
      "\n",
      "--- 최종 모델 성능 평가 (Test Set) ---\n"
     ]
    },
    {
     "name": "stderr",
     "output_type": "stream",
     "text": [
      "Testing: 100%|██████████| 78/78 [00:56<00:00,  1.37it/s]\n"
     ]
    },
    {
     "name": "stdout",
     "output_type": "stream",
     "text": [
      "\n",
      "✅ Test Loss: 0.0049 | Test Acc: 0.9980\n",
      "\n",
      "📋 Classification Report:\n",
      "              precision    recall  f1-score   support\n",
      "\n",
      "     단호박점무늬병     0.9968    0.9979    0.9974       948\n",
      "     단호박흰가루병     0.9976    0.9964    0.9970       838\n",
      "          정상     1.0000    1.0000    1.0000       700\n",
      "\n",
      "    accuracy                         0.9980      2486\n",
      "   macro avg     0.9981    0.9981    0.9981      2486\n",
      "weighted avg     0.9980    0.9980    0.9980      2486\n",
      "\n",
      "📊 Confusion Matrix:\n"
     ]
    },
    {
     "data": {
      "image/png": "[encoded data removed]",
      "text/plain": [
       "<Figure size 1000x700 with 2 Axes>"
      ]
     },
     "metadata": {},
     "output_type": "display_data"
    }
   ],
   "source": [
    "if __name__ == '__main__':\n",
    "    # --- 1. 설정 및 하이퍼파라미터 ---\n",
    "    DEVICE = torch.device(\"cuda\" if torch.cuda.is_available() else \"cpu\")\n",
    "    print(f\"Using device: {DEVICE}\")\n",
    "\n",
    "    DATA_PATH = r'C:\\Users\\427s2\\KSEB\\pumpkin\\effinet_811_dataset'\n",
    "    MODEL_SAVE_PATH = 'best_pumpkin_classifier_811.pth'\n",
    "    \n",
    "    IMG_SIZE = 240\n",
    "    BATCH_SIZE = 32\n",
    "    NUM_EPOCHS = 15\n",
    "    LEARNING_RATE = 0.001\n",
    "\n",
    "    # --- 2. 데이터 전처리 및 로더 준비 ---\n",
    "    data_transforms = {\n",
    "        'train': transforms.Compose([\n",
    "            transforms.RandomResizedCrop(IMG_SIZE),\n",
    "            transforms.RandomHorizontalFlip(),\n",
    "            transforms.RandomRotation(15),\n",
    "            transforms.ToTensor(),\n",
    "            transforms.Normalize([0.485, 0.456, 0.406], [0.229, 0.224, 0.225])\n",
    "        ]),\n",
    "        'val': transforms.Compose([\n",
    "            transforms.Resize(IMG_SIZE),\n",
    "            transforms.CenterCrop(IMG_SIZE),\n",
    "            transforms.ToTensor(),\n",
    "            transforms.Normalize([0.485, 0.456, 0.406], [0.229, 0.224, 0.225])\n",
    "        ]),\n",
    "        'test': transforms.Compose([\n",
    "            transforms.Resize(IMG_SIZE),\n",
    "            transforms.CenterCrop(IMG_SIZE),\n",
    "            transforms.ToTensor(),\n",
    "            transforms.Normalize([0.485, 0.456, 0.406], [0.229, 0.224, 0.225])\n",
    "        ]),\n",
    "    }\n",
    "\n",
    "    image_datasets = {x: datasets.ImageFolder(os.path.join(DATA_PATH, x), data_transforms[x])\n",
    "                      for x in ['train', 'val', 'test']}\n",
    "    \n",
    "    # ==================================================================\n",
    "    # ✨ [추가된 부분] 데이터셋 상세 정보 출력\n",
    "    print(\"\\n--- 데이터셋 상세 정보 ---\")\n",
    "    for split in ['train', 'val', 'test']:\n",
    "        dataset = image_datasets[split]\n",
    "        class_names_list = dataset.classes\n",
    "        class_counts = {class_name: 0 for class_name in class_names_list}\n",
    "        for _, label_idx in dataset.samples:\n",
    "            class_name = class_names_list[label_idx]\n",
    "            class_counts[class_name] += 1\n",
    "        \n",
    "        print(f\"\\n✅ {split.capitalize()} Dataset: 총 {len(dataset)}개\")\n",
    "        # 클래스 이름 순서가 폴더 순서에 따라 달라질 수 있으므로, 정렬해서 출력\n",
    "        for class_name in sorted(class_counts.keys()):\n",
    "            print(f\"  - {class_name}: {class_counts[class_name]}개\")\n",
    "    print(\"---------------------------\\n\")\n",
    "    # ==================================================================\n",
    "\n",
    "    dataloaders = {\n",
    "        'train': DataLoader(image_datasets['train'], batch_size=BATCH_SIZE, shuffle=True, num_workers=4),\n",
    "        'val': DataLoader(image_datasets['val'], batch_size=BATCH_SIZE, shuffle=False, num_workers=4),\n",
    "        'test': DataLoader(image_datasets['test'], batch_size=BATCH_SIZE, shuffle=False, num_workers=4)\n",
    "    }\n",
    "    \n",
    "    class_names = image_datasets['train'].classes\n",
    "    NUM_CLASSES = len(class_names)\n",
    "    print(\"Class names:\", class_names)\n",
    "    print(f\"Number of classes: {NUM_CLASSES}\")\n",
    "\n",
    "    # --- 3. 모델 준비 ---\n",
    "    model = models.efficientnet_b1(weights=models.EfficientNet_B1_Weights.DEFAULT)\n",
    "    num_ftrs = model.classifier[1].in_features\n",
    "    model.classifier[1] = nn.Linear(num_ftrs, NUM_CLASSES)\n",
    "    model = model.to(DEVICE)\n",
    "\n",
    "    # --- 4. 손실 함수, 옵티마이저, 스케줄러 정의 ---\n",
    "    criterion = nn.CrossEntropyLoss()\n",
    "    optimizer = optim.Adam(model.parameters(), lr=LEARNING_RATE)\n",
    "    exp_lr_scheduler = lr_scheduler.StepLR(optimizer, step_size=7, gamma=0.1)\n",
    "\n",
    "    # --- 5. 모델 학습 시작 ---\n",
    "    trained_model = train_model(model, criterion, optimizer, exp_lr_scheduler,\n",
    "                                  num_epochs=NUM_EPOCHS, \n",
    "                                  dataloaders={'train': dataloaders['train'], 'val': dataloaders['val']}, \n",
    "                                  device=DEVICE, \n",
    "                                  model_save_path=MODEL_SAVE_PATH)\n",
    "\n",
    "    # --- 6. 학습 완료 후 Test Set으로 최종 평가 ---\n",
    "    evaluate_model_on_test_set(model=trained_model, \n",
    "                               test_loader=dataloaders['test'], \n",
    "                               device=DEVICE, \n",
    "                               class_names=class_names,\n",
    "                               model_path=MODEL_SAVE_PATH)"
   ]
  },
  {
   "cell_type": "code",
   "execution_count": 25,
   "id": "0e7bdf5e",
   "metadata": {},
   "outputs": [
    {
     "name": "stdout",
     "output_type": "stream",
     "text": [
      "\n",
      "--- 예측 결과 ---\n",
      "✅ 이미지: C:\\Users\\427s2\\KSEB\\pumpkin\\test_data\\pumpkin6_4.jpg\n",
      "🔍 예측된 클래스: **단호박점무늬병**\n",
      "🎯 신뢰도: **99.74%**\n"
     ]
    }
   ],
   "source": [
    "import torch\n",
    "import torch.nn.functional as F\n",
    "from torchvision import models, transforms\n",
    "from PIL import Image\n",
    "import json\n",
    "\n",
    "def predict_image(model_path, image_path, class_names, device):\n",
    "    \"\"\"\n",
    "    학습된 모델을 로드하여 단일 이미지의 클래스를 예측합니다.\n",
    "\n",
    "    Args:\n",
    "        model_path (str): 저장된 모델 파일(.pth)의 경로\n",
    "        image_path (str): 테스트할 이미지 파일의 경로\n",
    "        class_names (list): 학습 시 사용된 클래스 이름 리스트\n",
    "        device (torch.device): 연산을 수행할 장치 (cpu 또는 cuda)\n",
    "\n",
    "    Returns:\n",
    "        tuple: (예측된 클래스 이름, 신뢰도 확률)\n",
    "    \"\"\"\n",
    "    # 1. 모델 아키텍처 불러오기 및 최종 레이어 수정\n",
    "    num_classes = len(class_names)\n",
    "    model = models.efficientnet_b1(weights=None) # 사전학습 가중치는 사용 안 함\n",
    "    num_ftrs = model.classifier[1].in_features\n",
    "    model.classifier[1] = torch.nn.Linear(num_ftrs, num_classes)\n",
    "\n",
    "    # 2. 학습된 가중치(state_dict) 로드\n",
    "    model.load_state_dict(torch.load(model_path, map_location=device))\n",
    "    model = model.to(device)\n",
    "    model.eval()  # 모델을 평가 모드로 설정 (dropout, batchnorm 비활성화)\n",
    "\n",
    "    # 3. 이미지 전처리 (학습 시 validation 단계와 동일하게)\n",
    "    preprocess = transforms.Compose([\n",
    "        transforms.Resize(240),\n",
    "        transforms.CenterCrop(240),\n",
    "        transforms.ToTensor(),\n",
    "        transforms.Normalize([0.485, 0.456, 0.406], [0.229, 0.224, 0.225])\n",
    "    ])\n",
    "\n",
    "    try:\n",
    "        image = Image.open(image_path).convert('RGB')\n",
    "        image_tensor = preprocess(image).unsqueeze(0).to(device) # 배치 차원 추가\n",
    "    except FileNotFoundError:\n",
    "        return f\"오류: '{image_path}' 파일을 찾을 수 없습니다.\", 0.0\n",
    "\n",
    "    # 4. 예측 수행\n",
    "    with torch.no_grad(): # 그래디언트 계산 비활성화\n",
    "        outputs = model(image_tensor)\n",
    "        # Softmax를 적용하여 확률로 변환\n",
    "        probabilities = F.softmax(outputs, dim=1)\n",
    "        # 가장 높은 확률과 해당 인덱스 가져오기\n",
    "        confidence, predicted_idx = torch.max(probabilities, 1)\n",
    "\n",
    "    # 5. 결과 반환\n",
    "    predicted_class = class_names[predicted_idx.item()]\n",
    "    confidence_score = confidence.item() * 100\n",
    "\n",
    "    return predicted_class, confidence_score\n",
    "\n",
    "\n",
    "if __name__ == '__main__':\n",
    "    # --- 설정 ---\n",
    "    DEVICE = torch.device(\"cuda\" if torch.cuda.is_available() else \"cpu\")\n",
    "    \n",
    "    # 📂 학습된 모델 파일 경로\n",
    "    MODEL_PATH = r'C:\\Users\\427s2\\KSEB\\pumpkin\\best_pumpkin_classifier_811.pth'\n",
    "    \n",
    "    # 🖼️ 테스트하고 싶은 이미지 파일 경로 (이 부분을 수정하세요!)\n",
    "    IMAGE_TO_TEST = r'C:\\Users\\427s2\\KSEB\\pumpkin\\test_data\\pumpkin6_4.jpg' \n",
    "    \n",
    "    # ❗ 클래스 이름 (train.py에서 사용한 순서와 반드시 동일해야 함)\n",
    "    CLASS_NAMES = ['단호박점무늬병', '단호박흰가루병', '정상']\n",
    "    \n",
    "    # --- 예측 실행 ---\n",
    "    predicted_class, confidence = predict_image(MODEL_PATH, IMAGE_TO_TEST, CLASS_NAMES, DEVICE)\n",
    "    \n",
    "    if \"오류\" in predicted_class:\n",
    "        print(predicted_class)\n",
    "    else:\n",
    "        print(\"\\n--- 예측 결과 ---\")\n",
    "        print(f\"✅ 이미지: {IMAGE_TO_TEST}\")\n",
    "        print(f\"🔍 예측된 클래스: **{predicted_class}**\")\n",
    "        print(f\"🎯 신뢰도: **{confidence:.2f}%**\")"
   ]
  }
 ],
 "metadata": {
  "kernelspec": {
   "display_name": "cuda_torch1",
   "language": "python",
   "name": "python3"
  },
  "language_info": {
   "codemirror_mode": {
    "name": "ipython",
    "version": 3
   },
   "file_extension": ".py",
   "mimetype": "text/x-python",
   "name": "python",
   "nbconvert_exporter": "python",
   "pygments_lexer": "ipython3",
   "version": "3.9.21"
  }
 },
 "nbformat": 4,
 "nbformat_minor": 5
}
