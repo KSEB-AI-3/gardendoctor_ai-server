{
 "cells": [
  {
   "cell_type": "code",
   "execution_count": 1,
   "id": "b61101f0",
   "metadata": {},
   "outputs": [],
   "source": [
    "import os\n",
    "import torch\n",
    "import torch.nn as nn\n",
    "import torch.optim as optim\n",
    "from torch.optim import lr_scheduler\n",
    "from torchvision import datasets, models, transforms\n",
    "from torch.utils.data import DataLoader\n",
    "from tqdm import tqdm\n",
    "import time\n",
    "import copy\n",
    "import numpy as np\n",
    "import pandas as pd\n",
    "import seaborn as sns\n",
    "import matplotlib.pyplot as plt\n",
    "from sklearn.metrics import classification_report, confusion_matrix"
   ]
  },
  {
   "cell_type": "code",
   "execution_count": 2,
   "id": "28da7474",
   "metadata": {},
   "outputs": [],
   "source": [
    "# --- [✨ 추가] 최종 테스트 평가 함수 ---\n",
    "def evaluate_model_on_test_set(model, test_loader, device, class_names, model_path):\n",
    "    \"\"\"\n",
    "    학습이 완료된 후 저장된 최적의 모델을 불러와\n",
    "    test 데이터셋으로 최종 성능을 평가하고, 결과를 시각화합니다.\n",
    "    \"\"\"\n",
    "    # 저장된 최적의 가중치를 모델에 로드\n",
    "    model.load_state_dict(torch.load(model_path))\n",
    "    model.to(device)\n",
    "    model.eval()  # 모델을 평가 모드로 설정\n",
    "\n",
    "    all_preds = []\n",
    "    all_labels = []\n",
    "    running_loss = 0.0\n",
    "    running_corrects = 0\n",
    "    criterion = nn.CrossEntropyLoss()\n",
    "\n",
    "    print(\"\\n--- 최종 모델 성능 평가 (Test Set) ---\")\n",
    "    \n",
    "    with torch.no_grad(): # 그래디언트 계산 비활성화\n",
    "        for inputs, labels in tqdm(test_loader, desc=\"Testing\"):\n",
    "            inputs = inputs.to(device)\n",
    "            labels = labels.to(device)\n",
    "\n",
    "            outputs = model(inputs)\n",
    "            loss = criterion(outputs, labels)\n",
    "            _, preds = torch.max(outputs, 1)\n",
    "\n",
    "            running_loss += loss.item() * inputs.size(0)\n",
    "            running_corrects += torch.sum(preds == labels.data)\n",
    "            \n",
    "            # 나중에 confusion matrix와 classification report를 위해 예측값과 실제값 저장\n",
    "            all_preds.extend(preds.cpu().numpy())\n",
    "            all_labels.extend(labels.cpu().numpy())\n",
    "\n",
    "    # 전체 테스트 데이터에 대한 손실과 정확도\n",
    "    test_loss = running_loss / len(test_loader.dataset)\n",
    "    test_acc = running_corrects.double() / len(test_loader.dataset)\n",
    "    print(f\"\\n✅ Test Loss: {test_loss:.4f} | Test Acc: {test_acc:.4f}\\n\")\n",
    "\n",
    "    # --- Classification Report 출력 ---\n",
    "    print(\"📋 Classification Report:\")\n",
    "    print(classification_report(all_labels, all_preds, target_names=class_names, digits=4))\n",
    "\n",
    "    # --- Confusion Matrix 시각화 ---\n",
    "    print(\"📊 Confusion Matrix:\")\n",
    "    cm = confusion_matrix(all_labels, all_preds)\n",
    "    df_cm = pd.DataFrame(cm, index=class_names, columns=class_names)\n",
    "    \n",
    "    # ✨ --- 한글 폰트 설정 시작 --- ✨\n",
    "    try:\n",
    "        import matplotlib.pyplot as plt\n",
    "        # Windows 운영체제의 경우\n",
    "        plt.rc('font', family='Malgun Gothic')\n",
    "    except ImportError:\n",
    "        print(\"matplotlib 라이브러리를 찾을 수 없습니다.\")\n",
    "    except Exception as e:\n",
    "        print(f\"폰트 설정 중 오류 발생: {e}\")\n",
    "        print(\"macOS는 'AppleGothic', Linux는 'NanumGothic'을 시도해 보세요.\")\n",
    "\n",
    "    # 마이너스 기호가 깨지는 것을 방지\n",
    "    plt.rcParams['axes.unicode_minus'] = False\n",
    "    # ✨ --- 한글 폰트 설정 종료 --- ✨\n",
    "\n",
    "    plt.figure(figsize=(10, 7))\n",
    "    sns.heatmap(df_cm, annot=True, fmt='d', cmap='Blues')\n",
    "    plt.title('Confusion Matrix', fontsize=16) # 타이틀 폰트 크기 조절\n",
    "    plt.xlabel('Predicted Label', fontsize=12) # x축 라벨 폰트 크기 조절\n",
    "    plt.ylabel('True Label', fontsize=12) # y축 라벨 폰트 크기 조절\n",
    "    plt.show()\n"
   ]
  },
  {
   "cell_type": "code",
   "execution_count": 3,
   "id": "52f02dfd",
   "metadata": {},
   "outputs": [],
   "source": [
    "def train_model(model, criterion, optimizer, scheduler, num_epochs, dataloaders, device, model_save_path):\n",
    "    \"\"\"EfficientNet 모델을 학습하고 검증하는 메인 함수\"\"\"\n",
    "    start_time = time.time()\n",
    "    best_model_wts = copy.deepcopy(model.state_dict())\n",
    "    best_acc = 0.0\n",
    "    scaler = torch.cuda.amp.GradScaler()\n",
    "\n",
    "    for epoch in range(num_epochs):\n",
    "        print(f'Epoch {epoch+1}/{num_epochs}')\n",
    "        print('-' * 10)\n",
    "\n",
    "        for phase in ['train', 'val']:\n",
    "            if phase == 'train':\n",
    "                model.train()\n",
    "            else:\n",
    "                model.eval()\n",
    "\n",
    "            running_loss = 0.0\n",
    "            running_corrects = 0\n",
    "            progress_bar = tqdm(dataloaders[phase], desc=f\"{phase.capitalize()} Phase\")\n",
    "\n",
    "            for inputs, labels in progress_bar:\n",
    "                inputs = inputs.to(device)\n",
    "                labels = labels.to(device)\n",
    "                optimizer.zero_grad()\n",
    "\n",
    "                with torch.set_grad_enabled(phase == 'train'):\n",
    "                    with torch.cuda.amp.autocast():\n",
    "                        outputs = model(inputs)\n",
    "                        _, preds = torch.max(outputs, 1)\n",
    "                        loss = criterion(outputs, labels)\n",
    "\n",
    "                    if phase == 'train':\n",
    "                        scaler.scale(loss).backward()\n",
    "                        scaler.step(optimizer)\n",
    "                        scaler.update()\n",
    "\n",
    "                running_loss += loss.item() * inputs.size(0)\n",
    "                running_corrects += torch.sum(preds == labels.data)\n",
    "                progress_bar.set_postfix(loss=f'{loss.item():.4f}')\n",
    "\n",
    "            if phase == 'train':\n",
    "                scheduler.step()\n",
    "\n",
    "            epoch_loss = running_loss / len(dataloaders[phase].dataset)\n",
    "            epoch_acc = running_corrects.double() / len(dataloaders[phase].dataset)\n",
    "            print(f'✅ {phase} Loss: {epoch_loss:.4f} Acc: {epoch_acc:.4f}')\n",
    "\n",
    "            if phase == 'val' and epoch_acc > best_acc:\n",
    "                best_acc = epoch_acc\n",
    "                best_model_wts = copy.deepcopy(model.state_dict())\n",
    "                torch.save(model.state_dict(), model_save_path)\n",
    "                print(f'🚀 Best validation accuracy updated: {best_acc:.4f}, Model saved!')\n",
    "\n",
    "    time_elapsed = time.time() - start_time\n",
    "    print(f'\\nTraining complete in {time_elapsed // 60:.0f}m {time_elapsed % 60:.0f}s')\n",
    "    print(f'🏆 Best val Acc: {best_acc:4f}')\n",
    "\n",
    "    model.load_state_dict(best_model_wts)\n",
    "    return model\n"
   ]
  },
  {
   "cell_type": "code",
   "execution_count": 133,
   "id": "1be51494",
   "metadata": {},
   "outputs": [
    {
     "name": "stdout",
     "output_type": "stream",
     "text": [
      "Using device: cuda\n",
      "------------------------------------------------------\n",
      "\n",
      "\n",
      "--- (필터링된) 데이터셋 상세 정보 ---\n",
      "\n",
      "✅ Train Dataset: 총 8787개\n",
      "  - 정상: 2600개\n",
      "  - 토마토잎곰팡이병: 2327개\n",
      "  - 토마토황화잎말림바이러스병: 2015개\n",
      "  - 토마토흰가루병: 1845개\n",
      "\n",
      "✅ Val Dataset: 총 1290개\n",
      "  - 정상: 375개\n",
      "  - 토마토잎곰팡이병: 342개\n",
      "  - 토마토황화잎말림바이러스병: 300개\n",
      "  - 토마토흰가루병: 273개\n",
      "\n",
      "✅ Test Dataset: 총 1294개\n",
      "  - 정상: 377개\n",
      "  - 토마토잎곰팡이병: 341개\n",
      "  - 토마토황화잎말림바이러스병: 301개\n",
      "  - 토마토흰가루병: 275개\n",
      "---------------------------\n",
      "\n",
      "Class names: ['정상', '토마토잎곰팡이병', '토마토황화잎말림바이러스병', '토마토흰가루병']\n",
      "Number of classes: 4\n",
      "Epoch 1/15\n",
      "----------\n"
     ]
    },
    {
     "name": "stderr",
     "output_type": "stream",
     "text": [
      "C:\\Users\\427s2\\AppData\\Local\\Temp\\ipykernel_23824\\1756973827.py:6: FutureWarning: `torch.cuda.amp.GradScaler(args...)` is deprecated. Please use `torch.amp.GradScaler('cuda', args...)` instead.\n",
      "  scaler = torch.cuda.amp.GradScaler()\n",
      "Train Phase:   0%|          | 0/275 [00:00<?, ?it/s]C:\\Users\\427s2\\AppData\\Local\\Temp\\ipykernel_23824\\1756973827.py:28: FutureWarning: `torch.cuda.amp.autocast(args...)` is deprecated. Please use `torch.amp.autocast('cuda', args...)` instead.\n",
      "  with torch.cuda.amp.autocast():\n",
      "Train Phase: 100%|██████████| 275/275 [00:31<00:00,  8.83it/s, loss=0.1336]\n"
     ]
    },
    {
     "name": "stdout",
     "output_type": "stream",
     "text": [
      "✅ train Loss: 0.2113 Acc: 0.9276\n"
     ]
    },
    {
     "name": "stderr",
     "output_type": "stream",
     "text": [
      "Val Phase: 100%|██████████| 41/41 [00:14<00:00,  2.89it/s, loss=0.0122]\n"
     ]
    },
    {
     "name": "stdout",
     "output_type": "stream",
     "text": [
      "✅ val Loss: 0.0341 Acc: 0.9907\n",
      "🚀 Best validation accuracy updated: 0.9907, Model saved!\n",
      "Epoch 2/15\n",
      "----------\n"
     ]
    },
    {
     "name": "stderr",
     "output_type": "stream",
     "text": [
      "Train Phase: 100%|██████████| 275/275 [00:29<00:00,  9.31it/s, loss=0.1869]\n"
     ]
    },
    {
     "name": "stdout",
     "output_type": "stream",
     "text": [
      "✅ train Loss: 0.1060 Acc: 0.9648\n"
     ]
    },
    {
     "name": "stderr",
     "output_type": "stream",
     "text": [
      "Val Phase: 100%|██████████| 41/41 [00:13<00:00,  3.07it/s, loss=0.0981]\n"
     ]
    },
    {
     "name": "stdout",
     "output_type": "stream",
     "text": [
      "✅ val Loss: 0.0508 Acc: 0.9798\n",
      "Epoch 3/15\n",
      "----------\n"
     ]
    },
    {
     "name": "stderr",
     "output_type": "stream",
     "text": [
      "Train Phase: 100%|██████████| 275/275 [00:30<00:00,  9.17it/s, loss=0.0979]\n"
     ]
    },
    {
     "name": "stdout",
     "output_type": "stream",
     "text": [
      "✅ train Loss: 0.0870 Acc: 0.9688\n"
     ]
    },
    {
     "name": "stderr",
     "output_type": "stream",
     "text": [
      "Val Phase: 100%|██████████| 41/41 [00:13<00:00,  3.04it/s, loss=0.0002]\n"
     ]
    },
    {
     "name": "stdout",
     "output_type": "stream",
     "text": [
      "✅ val Loss: 0.0303 Acc: 0.9907\n",
      "Epoch 4/15\n",
      "----------\n"
     ]
    },
    {
     "name": "stderr",
     "output_type": "stream",
     "text": [
      "Train Phase: 100%|██████████| 275/275 [00:29<00:00,  9.33it/s, loss=0.0074]\n"
     ]
    },
    {
     "name": "stdout",
     "output_type": "stream",
     "text": [
      "✅ train Loss: 0.0731 Acc: 0.9756\n"
     ]
    },
    {
     "name": "stderr",
     "output_type": "stream",
     "text": [
      "Val Phase: 100%|██████████| 41/41 [00:13<00:00,  3.04it/s, loss=0.0004]\n"
     ]
    },
    {
     "name": "stdout",
     "output_type": "stream",
     "text": [
      "✅ val Loss: 0.0425 Acc: 0.9829\n",
      "Epoch 5/15\n",
      "----------\n"
     ]
    },
    {
     "name": "stderr",
     "output_type": "stream",
     "text": [
      "Train Phase: 100%|██████████| 275/275 [00:30<00:00,  9.13it/s, loss=0.0641]\n"
     ]
    },
    {
     "name": "stdout",
     "output_type": "stream",
     "text": [
      "✅ train Loss: 0.0633 Acc: 0.9789\n"
     ]
    },
    {
     "name": "stderr",
     "output_type": "stream",
     "text": [
      "Val Phase: 100%|██████████| 41/41 [00:13<00:00,  3.05it/s, loss=0.0069]\n"
     ]
    },
    {
     "name": "stdout",
     "output_type": "stream",
     "text": [
      "✅ val Loss: 0.0303 Acc: 0.9884\n",
      "Epoch 6/15\n",
      "----------\n"
     ]
    },
    {
     "name": "stderr",
     "output_type": "stream",
     "text": [
      "Train Phase: 100%|██████████| 275/275 [00:29<00:00,  9.26it/s, loss=0.0368]\n"
     ]
    },
    {
     "name": "stdout",
     "output_type": "stream",
     "text": [
      "✅ train Loss: 0.0634 Acc: 0.9803\n"
     ]
    },
    {
     "name": "stderr",
     "output_type": "stream",
     "text": [
      "Val Phase: 100%|██████████| 41/41 [00:13<00:00,  3.05it/s, loss=0.0005]\n"
     ]
    },
    {
     "name": "stdout",
     "output_type": "stream",
     "text": [
      "✅ val Loss: 0.0093 Acc: 0.9961\n",
      "🚀 Best validation accuracy updated: 0.9961, Model saved!\n",
      "Epoch 7/15\n",
      "----------\n"
     ]
    },
    {
     "name": "stderr",
     "output_type": "stream",
     "text": [
      "Train Phase: 100%|██████████| 275/275 [00:30<00:00,  9.02it/s, loss=0.0008]\n"
     ]
    },
    {
     "name": "stdout",
     "output_type": "stream",
     "text": [
      "✅ train Loss: 0.0533 Acc: 0.9835\n"
     ]
    },
    {
     "name": "stderr",
     "output_type": "stream",
     "text": [
      "Val Phase: 100%|██████████| 41/41 [00:13<00:00,  3.06it/s, loss=0.0008]\n"
     ]
    },
    {
     "name": "stdout",
     "output_type": "stream",
     "text": [
      "✅ val Loss: 0.0233 Acc: 0.9930\n",
      "Epoch 8/15\n",
      "----------\n"
     ]
    },
    {
     "name": "stderr",
     "output_type": "stream",
     "text": [
      "Train Phase: 100%|██████████| 275/275 [00:29<00:00,  9.24it/s, loss=0.0035]\n"
     ]
    },
    {
     "name": "stdout",
     "output_type": "stream",
     "text": [
      "✅ train Loss: 0.0386 Acc: 0.9857\n"
     ]
    },
    {
     "name": "stderr",
     "output_type": "stream",
     "text": [
      "Val Phase: 100%|██████████| 41/41 [00:13<00:00,  2.99it/s, loss=0.0021]\n"
     ]
    },
    {
     "name": "stdout",
     "output_type": "stream",
     "text": [
      "✅ val Loss: 0.0120 Acc: 0.9961\n",
      "Epoch 9/15\n",
      "----------\n"
     ]
    },
    {
     "name": "stderr",
     "output_type": "stream",
     "text": [
      "Train Phase: 100%|██████████| 275/275 [00:30<00:00,  9.06it/s, loss=0.0098]\n"
     ]
    },
    {
     "name": "stdout",
     "output_type": "stream",
     "text": [
      "✅ train Loss: 0.0243 Acc: 0.9920\n"
     ]
    },
    {
     "name": "stderr",
     "output_type": "stream",
     "text": [
      "Val Phase: 100%|██████████| 41/41 [00:13<00:00,  3.06it/s, loss=0.0015]\n"
     ]
    },
    {
     "name": "stdout",
     "output_type": "stream",
     "text": [
      "✅ val Loss: 0.0092 Acc: 0.9977\n",
      "🚀 Best validation accuracy updated: 0.9977, Model saved!\n",
      "Epoch 10/15\n",
      "----------\n"
     ]
    },
    {
     "name": "stderr",
     "output_type": "stream",
     "text": [
      "Train Phase: 100%|██████████| 275/275 [00:29<00:00,  9.27it/s, loss=0.0007]\n"
     ]
    },
    {
     "name": "stdout",
     "output_type": "stream",
     "text": [
      "✅ train Loss: 0.0183 Acc: 0.9945\n"
     ]
    },
    {
     "name": "stderr",
     "output_type": "stream",
     "text": [
      "Val Phase: 100%|██████████| 41/41 [00:13<00:00,  3.04it/s, loss=0.0007]\n"
     ]
    },
    {
     "name": "stdout",
     "output_type": "stream",
     "text": [
      "✅ val Loss: 0.0066 Acc: 0.9984\n",
      "🚀 Best validation accuracy updated: 0.9984, Model saved!\n",
      "Epoch 11/15\n",
      "----------\n"
     ]
    },
    {
     "name": "stderr",
     "output_type": "stream",
     "text": [
      "Train Phase: 100%|██████████| 275/275 [00:30<00:00,  9.12it/s, loss=0.0202]\n"
     ]
    },
    {
     "name": "stdout",
     "output_type": "stream",
     "text": [
      "✅ train Loss: 0.0189 Acc: 0.9939\n"
     ]
    },
    {
     "name": "stderr",
     "output_type": "stream",
     "text": [
      "Val Phase: 100%|██████████| 41/41 [00:13<00:00,  3.04it/s, loss=0.0011]\n"
     ]
    },
    {
     "name": "stdout",
     "output_type": "stream",
     "text": [
      "✅ val Loss: 0.0064 Acc: 0.9984\n",
      "Epoch 12/15\n",
      "----------\n"
     ]
    },
    {
     "name": "stderr",
     "output_type": "stream",
     "text": [
      "Train Phase: 100%|██████████| 275/275 [00:29<00:00,  9.19it/s, loss=0.0025]\n"
     ]
    },
    {
     "name": "stdout",
     "output_type": "stream",
     "text": [
      "✅ train Loss: 0.0168 Acc: 0.9950\n"
     ]
    },
    {
     "name": "stderr",
     "output_type": "stream",
     "text": [
      "Val Phase: 100%|██████████| 41/41 [00:13<00:00,  2.98it/s, loss=0.0056]\n"
     ]
    },
    {
     "name": "stdout",
     "output_type": "stream",
     "text": [
      "✅ val Loss: 0.0058 Acc: 0.9977\n",
      "Epoch 13/15\n",
      "----------\n"
     ]
    },
    {
     "name": "stderr",
     "output_type": "stream",
     "text": [
      "Train Phase: 100%|██████████| 275/275 [00:29<00:00,  9.23it/s, loss=0.0191]\n"
     ]
    },
    {
     "name": "stdout",
     "output_type": "stream",
     "text": [
      "✅ train Loss: 0.0160 Acc: 0.9952\n"
     ]
    },
    {
     "name": "stderr",
     "output_type": "stream",
     "text": [
      "Val Phase: 100%|██████████| 41/41 [00:13<00:00,  3.04it/s, loss=0.0020]\n"
     ]
    },
    {
     "name": "stdout",
     "output_type": "stream",
     "text": [
      "✅ val Loss: 0.0035 Acc: 0.9992\n",
      "🚀 Best validation accuracy updated: 0.9992, Model saved!\n",
      "Epoch 14/15\n",
      "----------\n"
     ]
    },
    {
     "name": "stderr",
     "output_type": "stream",
     "text": [
      "Train Phase: 100%|██████████| 275/275 [00:29<00:00,  9.24it/s, loss=0.0014]\n"
     ]
    },
    {
     "name": "stdout",
     "output_type": "stream",
     "text": [
      "✅ train Loss: 0.0180 Acc: 0.9943\n"
     ]
    },
    {
     "name": "stderr",
     "output_type": "stream",
     "text": [
      "Val Phase: 100%|██████████| 41/41 [00:13<00:00,  3.03it/s, loss=0.0019]\n"
     ]
    },
    {
     "name": "stdout",
     "output_type": "stream",
     "text": [
      "✅ val Loss: 0.0037 Acc: 0.9992\n",
      "Epoch 15/15\n",
      "----------\n"
     ]
    },
    {
     "name": "stderr",
     "output_type": "stream",
     "text": [
      "Train Phase: 100%|██████████| 275/275 [00:30<00:00,  9.12it/s, loss=0.0116]\n"
     ]
    },
    {
     "name": "stdout",
     "output_type": "stream",
     "text": [
      "✅ train Loss: 0.0128 Acc: 0.9964\n"
     ]
    },
    {
     "name": "stderr",
     "output_type": "stream",
     "text": [
      "Val Phase: 100%|██████████| 41/41 [00:13<00:00,  3.05it/s, loss=0.0039]\n"
     ]
    },
    {
     "name": "stdout",
     "output_type": "stream",
     "text": [
      "✅ val Loss: 0.0048 Acc: 0.9984\n",
      "\n",
      "Training complete in 10m 54s\n",
      "🏆 Best val Acc: 0.999225\n",
      "\n",
      "--- 최종 모델 성능 평가 (Test Set) ---\n"
     ]
    },
    {
     "name": "stderr",
     "output_type": "stream",
     "text": [
      "Testing: 100%|██████████| 41/41 [00:14<00:00,  2.93it/s]"
     ]
    },
    {
     "name": "stdout",
     "output_type": "stream",
     "text": [
      "\n",
      "✅ Test Loss: 0.0133 | Test Acc: 0.9985\n",
      "\n",
      "📋 Classification Report:\n",
      "               precision    recall  f1-score   support\n",
      "\n",
      "           정상     1.0000    0.9973    0.9987       377\n",
      "     토마토잎곰팡이병     0.9971    1.0000    0.9985       341\n",
      "토마토황화잎말림바이러스병     1.0000    0.9967    0.9983       301\n",
      "      토마토흰가루병     0.9964    1.0000    0.9982       275\n",
      "\n",
      "     accuracy                         0.9985      1294\n",
      "    macro avg     0.9984    0.9985    0.9984      1294\n",
      " weighted avg     0.9985    0.9985    0.9985      1294\n",
      "\n",
      "📊 Confusion Matrix:\n"
     ]
    },
    {
     "name": "stderr",
     "output_type": "stream",
     "text": [
      "\n"
     ]
    },
    {
     "data": {
      "image/png": "[encoded data removed]",
      "text/plain": [
       "<Figure size 1000x700 with 2 Axes>"
      ]
     },
     "metadata": {},
     "output_type": "display_data"
    }
   ],
   "source": [
    "if __name__ == '__main__':\n",
    "    # --- 1. 설정 및 하이퍼파라미터 ---\n",
    "    DEVICE = torch.device(\"cuda\" if torch.cuda.is_available() else \"cpu\")\n",
    "    print(f\"Using device: {DEVICE}\")\n",
    "\n",
    "    DATA_PATH = r'C:\\Users\\427s2\\KSEB\\tomato\\final_dataset'\n",
    "    MODEL_SAVE_PATH = 'new_tomato_classifier_ver3.pth'\n",
    "    \n",
    "    IMG_SIZE = 240\n",
    "    BATCH_SIZE = 32\n",
    "    NUM_EPOCHS = 15\n",
    "    LEARNING_RATE = 0.001\n",
    "    # CLASS_TO_EXCLUDE = 'x단호박점무늬병' # 제외할 클래스 이름\n",
    "\n",
    "    # --- 2. 데이터 전처리 및 로더 준비 ---\n",
    "    data_transforms = {\n",
    "        'train': transforms.Compose([\n",
    "            transforms.RandomResizedCrop(IMG_SIZE),\n",
    "            transforms.RandomHorizontalFlip(),\n",
    "            transforms.RandomRotation(15),\n",
    "            transforms.ToTensor(),\n",
    "            transforms.Normalize([0.485, 0.456, 0.406], [0.229, 0.224, 0.225])\n",
    "        ]),\n",
    "        'val': transforms.Compose([\n",
    "            transforms.Resize(IMG_SIZE),\n",
    "            transforms.CenterCrop(IMG_SIZE),\n",
    "            transforms.ToTensor(),\n",
    "            transforms.Normalize([0.485, 0.456, 0.406], [0.229, 0.224, 0.225])\n",
    "        ]),\n",
    "        'test': transforms.Compose([\n",
    "            transforms.Resize(IMG_SIZE),\n",
    "            transforms.CenterCrop(IMG_SIZE),\n",
    "            transforms.ToTensor(),\n",
    "            transforms.Normalize([0.485, 0.456, 0.406], [0.229, 0.224, 0.225])\n",
    "        ]),\n",
    "    }\n",
    "\n",
    "    image_datasets = {x: datasets.ImageFolder(os.path.join(DATA_PATH, x), data_transforms[x])\n",
    "                    for x in ['train', 'val', 'test']}\n",
    "    \n",
    "    # ==================================================================\n",
    "    # ✨ [수정된 부분] 특정 클래스 제외 로직\n",
    "    \"\"\"\n",
    "    print(f\"\\n--- 데이터셋 필터링 시작: '{CLASS_TO_EXCLUDE}' 클래스 제외 ---\")\n",
    "    \n",
    "    for split in ['train', 'val', 'test']:\n",
    "        dataset = image_datasets[split]\n",
    "        \n",
    "        # 1. 제외할 클래스의 인덱스 찾기\n",
    "        if CLASS_TO_EXCLUDE not in dataset.class_to_idx:\n",
    "            print(f\"'{CLASS_TO_EXCLUDE}' 클래스를 {split} 데이터셋에서 찾을 수 없습니다. 건너뜁니다.\")\n",
    "            continue\n",
    "            \n",
    "        exclude_idx = dataset.class_to_idx[CLASS_TO_EXCLUDE]\n",
    "\n",
    "        # 2. 해당 클래스를 제외한 샘플(이미지 경로, 레이블)만 필터링\n",
    "        original_samples = dataset.samples\n",
    "        filtered_samples = [s for s in original_samples if s[1] != exclude_idx]\n",
    "        \n",
    "        # 3. 클래스 목록과 class_to_idx 딕셔너리 재구성\n",
    "        new_classes = [c for c in dataset.classes if c != CLASS_TO_EXCLUDE]\n",
    "        new_class_to_idx = {cls_name: i for i, cls_name in enumerate(new_classes)}\n",
    "        \n",
    "        # 4. 필터링된 샘플들의 레이블을 새로운 인덱스(0, 1, 2...)로 재매핑\n",
    "        #    예: [0, 2, 3] -> [0, 1, 2]\n",
    "        remapped_samples = []\n",
    "        for path, old_idx in filtered_samples:\n",
    "            old_class_name = dataset.classes[old_idx]\n",
    "            new_idx = new_class_to_idx[old_class_name]\n",
    "            remapped_samples.append((path, new_idx))\n",
    "\n",
    "        # 5. 데이터셋 객체의 속성을 갱신\n",
    "        dataset.samples = remapped_samples\n",
    "        dataset.imgs = remapped_samples\n",
    "        dataset.classes = new_classes\n",
    "        dataset.class_to_idx = new_class_to_idx\n",
    "        dataset.targets = [s[1] for s in remapped_samples]\n",
    "    \"\"\"\n",
    "    print(\"------------------------------------------------------\\n\")\n",
    "    # ==================================================================\n",
    "    \n",
    "    # ==================================================================\n",
    "    # ✨ [추가된 부분] 데이터셋 상세 정보 출력\n",
    "    print(\"\\n--- (필터링된) 데이터셋 상세 정보 ---\")\n",
    "    for split in ['train', 'val', 'test']:\n",
    "        dataset = image_datasets[split]\n",
    "        class_names_list = dataset.classes\n",
    "        class_counts = {class_name: 0 for class_name in class_names_list}\n",
    "        for _, label_idx in dataset.samples:\n",
    "            class_name = class_names_list[label_idx]\n",
    "            class_counts[class_name] += 1\n",
    "        \n",
    "        print(f\"\\n✅ {split.capitalize()} Dataset: 총 {len(dataset)}개\")\n",
    "        # 클래스 이름 순서가 폴더 순서에 따라 달라질 수 있으므로, 정렬해서 출력\n",
    "        for class_name in sorted(class_counts.keys()):\n",
    "            print(f\"  - {class_name}: {class_counts[class_name]}개\")\n",
    "    print(\"---------------------------\\n\")\n",
    "    # ==================================================================\n",
    "\n",
    "    dataloaders = {\n",
    "        'train': DataLoader(image_datasets['train'], batch_size=BATCH_SIZE, shuffle=True, num_workers=4),\n",
    "        'val': DataLoader(image_datasets['val'], batch_size=BATCH_SIZE, shuffle=False, num_workers=4),\n",
    "        'test': DataLoader(image_datasets['test'], batch_size=BATCH_SIZE, shuffle=False, num_workers=4)\n",
    "    }\n",
    "    \n",
    "    class_names = image_datasets['train'].classes\n",
    "    NUM_CLASSES = len(class_names)\n",
    "    print(\"Class names:\", class_names)\n",
    "    print(f\"Number of classes: {NUM_CLASSES}\")\n",
    "\n",
    "    # --- 3. 모델 준비 ---\n",
    "    model = models.efficientnet_b1(weights=models.EfficientNet_B1_Weights.DEFAULT)\n",
    "    num_ftrs = model.classifier[1].in_features\n",
    "    model.classifier[1] = nn.Linear(num_ftrs, NUM_CLASSES)\n",
    "    model = model.to(DEVICE)\n",
    "\n",
    "    # --- 4. 손실 함수, 옵티마이저, 스케줄러 정의 ---\n",
    "    criterion = nn.CrossEntropyLoss()\n",
    "    optimizer = optim.Adam(model.parameters(), lr=LEARNING_RATE)\n",
    "    exp_lr_scheduler = lr_scheduler.StepLR(optimizer, step_size=7, gamma=0.1)\n",
    "\n",
    "    # --- 5. 모델 학습 시작 ---\n",
    "    trained_model = train_model(model, criterion, optimizer, exp_lr_scheduler,\n",
    "                                num_epochs=NUM_EPOCHS, \n",
    "                                dataloaders={'train': dataloaders['train'], 'val': dataloaders['val']}, \n",
    "                                device=DEVICE, \n",
    "                                model_save_path=MODEL_SAVE_PATH)\n",
    "\n",
    "    # --- 6. 학습 완료 후 Test Set으로 최종 평가 ---\n",
    "    evaluate_model_on_test_set(model=trained_model, \n",
    "                            test_loader=dataloaders['test'], \n",
    "                            device=DEVICE, \n",
    "                            class_names=class_names,\n",
    "                            model_path=MODEL_SAVE_PATH)"
   ]
  },
  {
   "cell_type": "code",
   "execution_count": 2,
   "id": "0e7bdf5e",
   "metadata": {},
   "outputs": [],
   "source": [
    "import torch\n",
    "import torch.nn.functional as F\n",
    "from torchvision import models, transforms\n",
    "from PIL import Image\n",
    "from collections import defaultdict\n",
    "import json\n",
    "import os\n",
    "import glob\n",
    "\n",
    "def predict_image(model_path, image_path, class_names, device):\n",
    "    \"\"\"\n",
    "    학습된 모델을 로드하여 단일 이미지의 클래스를 예측합니다.\n",
    "\n",
    "    Args:\n",
    "        model_path (str): 저장된 모델 파일(.pth)의 경로\n",
    "        image_path (str): 테스트할 이미지 파일의 경로\n",
    "        class_names (list): 학습 시 사용된 클래스 이름 리스트\n",
    "        device (torch.device): 연산을 수행할 장치 (cpu 또는 cuda)\n",
    "\n",
    "    Returns:\n",
    "        tuple: (예측된 클래스 이름, 신뢰도 확률)\n",
    "    \"\"\"\n",
    "    # 1. 모델 아키텍처 불러오기 및 최종 레이어 수정\n",
    "    num_classes = len(class_names)\n",
    "    model = models.efficientnet_b1(weights=None) # 사전학습 가중치는 사용 안 함\n",
    "    num_ftrs = model.classifier[1].in_features\n",
    "    model.classifier[1] = torch.nn.Linear(num_ftrs, num_classes)\n",
    "\n",
    "    # 2. 학습된 가중치(state_dict) 로드\n",
    "    model.load_state_dict(torch.load(model_path, map_location=device))\n",
    "    model = model.to(device)\n",
    "    model.eval()  # 모델을 평가 모드로 설정 (dropout, batchnorm 비활성화)\n",
    "\n",
    "    # 3. 이미지 전처리 (학습 시 validation 단계와 동일하게)\n",
    "    preprocess = transforms.Compose([\n",
    "        transforms.Resize(240),\n",
    "        transforms.CenterCrop(240),\n",
    "        transforms.ToTensor(),\n",
    "        transforms.Normalize([0.485, 0.456, 0.406], [0.229, 0.224, 0.225])\n",
    "    ])\n",
    "\n",
    "    try:\n",
    "        image = Image.open(image_path).convert('RGB')\n",
    "        image_tensor = preprocess(image).unsqueeze(0).to(device) # 배치 차원 추가\n",
    "    except FileNotFoundError:\n",
    "        return f\"오류: '{image_path}' 파일을 찾을 수 없습니다.\", 0.0\n",
    "\n",
    "    # 4. 예측 수행\n",
    "    with torch.no_grad(): # 그래디언트 계산 비활성화\n",
    "        outputs = model(image_tensor)\n",
    "        # Softmax를 적용하여 확률로 변환\n",
    "        probabilities = F.softmax(outputs, dim=1)\n",
    "        # 가장 높은 확률과 해당 인덱스 가져오기\n",
    "        confidence, predicted_idx = torch.max(probabilities, 1)\n",
    "\n",
    "    # 5. 결과 반환\n",
    "    predicted_class = class_names[predicted_idx.item()]\n",
    "    confidence_score = confidence.item() * 100\n",
    "\n",
    "    return predicted_class, confidence_score"
   ]
  },
  {
   "cell_type": "code",
   "execution_count": 9,
   "id": "406ba0e8",
   "metadata": {},
   "outputs": [
    {
     "name": "stdout",
     "output_type": "stream",
     "text": [
      "\n",
      "--- 예측 결과 ---\n",
      "✅ 이미지: C:\\Users\\A\\Desktop\\PGH_folder\\kyonggi_univ\\KSEB\\fastapi\\test_data\\tomato\\토마토황화잎말림바이러스병7.jpg\n",
      "🔍 예측된 클래스: **토마토황화잎말림바이러스병**\n",
      "🎯 신뢰도: **96.84%**\n"
     ]
    }
   ],
   "source": [
    "if __name__ == '__main__':\n",
    "    # --- 설정 ---\n",
    "    DEVICE = torch.device(\"cuda\" if torch.cuda.is_available() else \"cpu\")\n",
    "    \n",
    "    # 📂 학습된 모델 파일 경로\n",
    "    MODEL_PATH = r'C:\\Users\\A\\Desktop\\PGH_folder\\kyonggi_univ\\KSEB\\fastapi\\app\\ai_models\\new_tomato_classifier_ver2.pth'\n",
    "    \n",
    "    # 🖼️ 테스트하고 싶은 이미지 파일 경로 (이 부분을 수정하세요!)\n",
    "    IMAGE_TO_TEST = r'C:\\Users\\A\\Desktop\\PGH_folder\\kyonggi_univ\\KSEB\\fastapi\\test_data\\tomato\\토마토황화잎말림바이러스병7.jpg' \n",
    "    \n",
    "    # ❗ 클래스 이름 (train.py에서 사용한 순서와 반드시 동일해야 함)\n",
    "    CLASS_NAMES = ['정상', '토마토잎곰팡이병', '토마토황화잎말림바이러스병', '토마토흰가루병']  \n",
    "    \n",
    "    # --- 예측 실행 ---\n",
    "    predicted_class, confidence = predict_image(MODEL_PATH, IMAGE_TO_TEST, CLASS_NAMES, DEVICE)\n",
    "    \n",
    "    if \"오류\" in predicted_class:\n",
    "        print(predicted_class)\n",
    "    else:\n",
    "        print(\"\\n--- 예측 결과 ---\")\n",
    "        print(f\"✅ 이미지: {IMAGE_TO_TEST}\")\n",
    "        print(f\"🔍 예측된 클래스: **{predicted_class}**\")\n",
    "        print(f\"🎯 신뢰도: **{confidence:.2f}%**\")"
   ]
  },
  {
   "cell_type": "code",
   "execution_count": 199,
   "id": "388c7974",
   "metadata": {},
   "outputs": [
    {
     "name": "stdout",
     "output_type": "stream",
     "text": [
      "총 36개의 이미지를 테스트합니다.\n",
      "\n",
      "✅ 이미지: 토마토_정상1.jpg\n",
      "   - 예측: **정상** (신뢰도: 99.80%)\n",
      "------------------------------\n",
      "✅ 이미지: 토마토_정상2.jpg\n",
      "   - 예측: **정상** (신뢰도: 97.13%)\n",
      "------------------------------\n",
      "✅ 이미지: 토마토_정상3.jpg\n",
      "   - 예측: **정상** (신뢰도: 99.96%)\n",
      "------------------------------\n",
      "✅ 이미지: 토마토_정상4.jpg\n",
      "   - 예측: **정상** (신뢰도: 96.17%)\n",
      "------------------------------\n",
      "✅ 이미지: 토마토_정상5.jpg\n",
      "   - 예측: **정상** (신뢰도: 100.00%)\n",
      "------------------------------\n",
      "✅ 이미지: 토마토_정상6.jpg\n",
      "   - 예측: **정상** (신뢰도: 100.00%)\n",
      "------------------------------\n",
      "✅ 이미지: 토마토잎곰팡이병1.jpg\n",
      "   - 예측: **토마토잎곰팡이병** (신뢰도: 100.00%)\n",
      "------------------------------\n",
      "✅ 이미지: 토마토잎곰팡이병10.jpg\n",
      "   - 예측: **토마토잎곰팡이병** (신뢰도: 100.00%)\n",
      "------------------------------\n",
      "✅ 이미지: 토마토잎곰팡이병2.jpg\n",
      "   - 예측: **토마토잎곰팡이병** (신뢰도: 99.62%)\n",
      "------------------------------\n",
      "✅ 이미지: 토마토잎곰팡이병3.jpg\n",
      "   - 예측: **토마토잎곰팡이병** (신뢰도: 100.00%)\n",
      "------------------------------\n",
      "✅ 이미지: 토마토잎곰팡이병4.jpg\n",
      "   - 예측: **토마토잎곰팡이병** (신뢰도: 99.90%)\n",
      "------------------------------\n",
      "✅ 이미지: 토마토잎곰팡이병5.jpg\n",
      "   - 예측: **토마토잎곰팡이병** (신뢰도: 98.09%)\n",
      "------------------------------\n",
      "✅ 이미지: 토마토잎곰팡이병6.jpg\n",
      "   - 예측: **토마토잎곰팡이병** (신뢰도: 99.99%)\n",
      "------------------------------\n",
      "✅ 이미지: 토마토잎곰팡이병7.jpg\n",
      "   - 예측: **토마토흰가루병** (신뢰도: 94.70%)\n",
      "------------------------------\n",
      "✅ 이미지: 토마토잎곰팡이병8.jpg\n",
      "   - 예측: **토마토잎곰팡이병** (신뢰도: 99.99%)\n",
      "------------------------------\n",
      "✅ 이미지: 토마토잎곰팡이병9.jpg\n",
      "   - 예측: **토마토잎곰팡이병** (신뢰도: 96.09%)\n",
      "------------------------------\n",
      "✅ 이미지: 토마토황화잎말림바이러스병1.jpg\n",
      "   - 예측: **토마토황화잎말림바이러스병** (신뢰도: 99.64%)\n",
      "------------------------------\n",
      "✅ 이미지: 토마토황화잎말림바이러스병10.jpg\n",
      "   - 예측: **정상** (신뢰도: 60.73%)\n",
      "------------------------------\n",
      "✅ 이미지: 토마토황화잎말림바이러스병2.jpg\n",
      "   - 예측: **토마토황화잎말림바이러스병** (신뢰도: 89.99%)\n",
      "------------------------------\n",
      "✅ 이미지: 토마토황화잎말림바이러스병3.jpg\n",
      "   - 예측: **토마토황화잎말림바이러스병** (신뢰도: 98.46%)\n",
      "------------------------------\n",
      "✅ 이미지: 토마토황화잎말림바이러스병4.jpg\n",
      "   - 예측: **토마토황화잎말림바이러스병** (신뢰도: 99.83%)\n",
      "------------------------------\n",
      "✅ 이미지: 토마토황화잎말림바이러스병5.jpg\n",
      "   - 예측: **토마토황화잎말림바이러스병** (신뢰도: 81.68%)\n",
      "------------------------------\n",
      "✅ 이미지: 토마토황화잎말림바이러스병6.jpg\n",
      "   - 예측: **토마토황화잎말림바이러스병** (신뢰도: 98.78%)\n",
      "------------------------------\n",
      "✅ 이미지: 토마토황화잎말림바이러스병7.jpg\n",
      "   - 예측: **토마토황화잎말림바이러스병** (신뢰도: 98.57%)\n",
      "------------------------------\n",
      "✅ 이미지: 토마토황화잎말림바이러스병8.jpg\n",
      "   - 예측: **토마토황화잎말림바이러스병** (신뢰도: 98.78%)\n",
      "------------------------------\n",
      "✅ 이미지: 토마토황화잎말림바이러스병9.jpg\n",
      "   - 예측: **토마토황화잎말림바이러스병** (신뢰도: 96.53%)\n",
      "------------------------------\n",
      "✅ 이미지: 토마토흰가루병1.jpg\n",
      "   - 예측: **토마토흰가루병** (신뢰도: 100.00%)\n",
      "------------------------------\n",
      "✅ 이미지: 토마토흰가루병10.jpg\n",
      "   - 예측: **토마토흰가루병** (신뢰도: 98.40%)\n",
      "------------------------------\n",
      "✅ 이미지: 토마토흰가루병2.jpg\n",
      "   - 예측: **토마토흰가루병** (신뢰도: 99.49%)\n",
      "------------------------------\n",
      "✅ 이미지: 토마토흰가루병3.jpg\n",
      "   - 예측: **토마토흰가루병** (신뢰도: 100.00%)\n",
      "------------------------------\n",
      "✅ 이미지: 토마토흰가루병4.jpg\n",
      "   - 예측: **토마토흰가루병** (신뢰도: 100.00%)\n",
      "------------------------------\n",
      "✅ 이미지: 토마토흰가루병5.jpg\n",
      "   - 예측: **토마토흰가루병** (신뢰도: 100.00%)\n",
      "------------------------------\n",
      "✅ 이미지: 토마토흰가루병6.jpg\n",
      "   - 예측: **정상** (신뢰도: 53.67%)\n",
      "------------------------------\n",
      "✅ 이미지: 토마토흰가루병7.jpg\n",
      "   - 예측: **토마토흰가루병** (신뢰도: 99.89%)\n",
      "------------------------------\n",
      "✅ 이미지: 토마토흰가루병8.jpg\n",
      "   - 예측: **토마토흰가루병** (신뢰도: 99.92%)\n",
      "------------------------------\n",
      "✅ 이미지: 토마토흰가루병9.jpg\n",
      "   - 예측: **토마토흰가루병** (신뢰도: 100.00%)\n",
      "------------------------------\n",
      "\n",
      "\n",
      "--- 📊 최종 예측 결과 요약 ---\n",
      "총 테스트 이미지: 36개\n",
      "- **정상**: 8개\n",
      "- **토마토잎곰팡이병**: 9개\n",
      "- **토마토흰가루병**: 10개\n",
      "- **토마토황화잎말림바이러스병**: 9개\n"
     ]
    }
   ],
   "source": [
    "if __name__ == '__main__':\n",
    "    # --- 설정 ---\n",
    "    DEVICE = torch.device(\"cuda\" if torch.cuda.is_available() else \"cpu\")\n",
    "    \n",
    "    # 📂 학습된 모델 파일 경로\n",
    "    MODEL_PATH = r'C:\\Users\\427s2\\KSEB\\tomato\\new_tomato_classifier_ver3.pth'\n",
    "    \n",
    "    # 🖼️ 테스트할 이미지들이 들어있는 **폴더** 경로 (이 부분을 수정하세요!)\n",
    "    TEST_DATA_FOLDER = r'C:\\Users\\427s2\\KSEB\\tomato\\test_data' \n",
    "    \n",
    "    # ❗ 클래스 이름 (train.py에서 사용한 순서와 반드시 동일해야 함)\n",
    "    CLASS_NAMES = ['정상', '토마토잎곰팡이병', '토마토황화잎말림바이러스병', '토마토흰가루병']  \n",
    "    \n",
    "    # --- 폴더 내 모든 이미지 경로 가져오기 ---\n",
    "    # 폴더 내의 모든 .jpg, .jpeg, .png, .bmp 파일을 찾습니다.\n",
    "    image_paths = []\n",
    "    supported_formats = ['*.jpg', '*.jpeg', '*.png', '*.bmp']\n",
    "    for fmt in supported_formats:\n",
    "        # glob을 사용하여 특정 패턴의 파일 경로를 리스트로 만듭니다.\n",
    "        image_paths.extend(glob.glob(os.path.join(TEST_DATA_FOLDER, fmt)))\n",
    "        \n",
    "    if not image_paths:\n",
    "        print(f\"❌ 오류: '{TEST_DATA_FOLDER}' 폴더에서 이미지를 찾을 수 없습니다.\")\n",
    "    else:\n",
    "        print(f\"총 {len(image_paths)}개의 이미지를 테스트합니다.\\n\")\n",
    "    \n",
    "    # --- 예측 실행 및 결과 집계 ---\n",
    "    # 각 클래스별 예측 횟수를 저장하기 위한 딕셔너리\n",
    "    prediction_counts = defaultdict(int)\n",
    "    \n",
    "    # 찾은 모든 이미지에 대해 반복 실행\n",
    "    for image_path in image_paths:\n",
    "        # 기존 예측 함수를 그대로 호출\n",
    "        predicted_class, confidence = predict_image(MODEL_PATH, image_path, CLASS_NAMES, DEVICE)\n",
    "        \n",
    "        # 파일 이름만 깔끔하게 추출\n",
    "        image_filename = os.path.basename(image_path)\n",
    "        \n",
    "        if \"오류\" in predicted_class:\n",
    "            print(f\"이미지: {image_filename} - {predicted_class}\")\n",
    "        else:\n",
    "            print(f\"✅ 이미지: {image_filename}\")\n",
    "            print(f\"   - 예측: **{predicted_class}** (신뢰도: {confidence:.2f}%)\")\n",
    "            print(\"-\" * 30) # 결과 구분을 위한 라인\n",
    "            \n",
    "            # 예측 결과 횟수 증가\n",
    "            prediction_counts[predicted_class] += 1\n",
    "            \n",
    "    # --- 최종 결과 요약 ---\n",
    "    print(\"\\n\\n--- 📊 최종 예측 결과 요약 ---\")\n",
    "    print(f\"총 테스트 이미지: {len(image_paths)}개\")\n",
    "    for class_name, count in prediction_counts.items():\n",
    "        print(f\"- **{class_name}**: {count}개\")"
   ]
  }
 ],
 "metadata": {
  "kernelspec": {
   "display_name": "ghpark1",
   "language": "python",
   "name": "python3"
  },
  "language_info": {
   "codemirror_mode": {
    "name": "ipython",
    "version": 3
   },
   "file_extension": ".py",
   "mimetype": "text/x-python",
   "name": "python",
   "nbconvert_exporter": "python",
   "pygments_lexer": "ipython3",
   "version": "3.9.21"
  }
 },
 "nbformat": 4,
 "nbformat_minor": 5
}
